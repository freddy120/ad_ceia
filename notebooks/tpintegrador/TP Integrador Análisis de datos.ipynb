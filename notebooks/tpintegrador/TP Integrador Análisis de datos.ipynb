{
 "cells": [
  {
   "cell_type": "markdown",
   "source": [
    "# Análisis de datos - Trabajo final integrador\n",
    "\n",
    "<img src=\"https://encrypted-tbn0.gstatic.com/images?q=tbn:ANd9GcQATNC-EBwF-LIbDVv_L0gkP2V6oKQzah5GRg&usqp=CAU\"/>\n",
    "\n",
    "Se propone realizar el ciclo completo del desarrollo de un modelo de aprendizaje automático supervisado.\n",
    "\n",
    "Trabajaremos con un [dataset de Kaggle con datos de por distintas estaciones metereológicas de Australia](https://www.kaggle.com/jsphyg/weather-dataset-rattle-package?select=weatherAUS.csv).\n",
    "\n",
    "Se proponen dos objetivos: \n",
    "1. Predecir si lloverá o no al día siguiente (variable *RainTomorrow*), en función datos metereológicos del día actual.\n",
    "2. Predecir el volúmen de precipitaciones (columna *Rainfall* del dia siguiente), en función al *Rainfall* del dia actual\n"
   ],
   "metadata": {
    "collapsed": false
   }
  },
  {
   "cell_type": "markdown",
   "source": [
    "## Enunciado\n",
    "\n",
    "- Descargar el [dataset de kaggle](https://www.kaggle.com/jsphyg/weather-dataset-rattle-package?select=weatherAUS.csv)\n",
    "\n",
    "### 1. Análisis exploratorio inicial\n",
    "\n",
    "- Visualizar las primeras filas.\n",
    "- Realizar un resumen de 5 números.\n",
    "- Identificar los tipos de datos: categórico, ordinal, etc. Responder para cada variable su tipo y si es informativa para un problema de clasificación (por ejemplo si se trata de un código, como una matrícula, o un nombre propio).\n",
    "- Identificar las variables de entrada y de salida del problema.\n",
    "- Variables de entrada:\n",
    "  - Realizar los siguientes análisis por tipo de variable.\n",
    "    - Numéricas: \n",
    "      - Obtener conclusiones acerca de la distribución de los datos.\n",
    "    - Categóricas\n",
    "        - Obtener conclusiones acerca de cardinalidad, representación de cada categoría, etc.\n",
    "    - Compuestas/otros. ¿Cómo pueden tratarse para utilizarlas en el problema elegido?\n",
    "- Variables de salida:\n",
    "  - ¿Están balanceadas las clases?\n",
    "  - ¿Qué técnicas consideraría para codificar la variable de salida? Justificar.\n",
    "\n",
    "### 2. Esquema de validación de resultados\n",
    "\n",
    "- Los pasos siguientes comprenden las etapas de preparación de datos y evaluación de resultados. Todos los puntos analizarlos para los dos problemas planteados.\n",
    "- Para ello, se debe particionar el dataset en entrenamiento y validación.\n",
    "\n",
    "### 3. Limpieza y preparación de datos / ingeniería de features\n",
    "\n",
    "- Datos faltantes. Indicar cantidad de observaciones y valores faltantes para cada variable.\n",
    "- ¿Qué supuestos puede realizar acerca de los datos faltantes? ¿Qué técnicas de imputación recomendaría?. Ensayar distintas técnicas y analizar los resultados. \n",
    "- En función del estudio inicial de las variables que se hizo en la sección anterior, elegir una técnica de codificación para cada variable. Cuando lo considere apropiado, ensayar distintas técnicas y comparar los resultados, teniendo en cuenta el tipo de clasificador a utilizar. Nota: para tipos de datos compuestos o estructurados, considerar la obtención de variables de tipo númerico/categórico.\n",
    "- ¿Qué puede decir acerca de las relaciones entre las variables de entrada?\n",
    "\n",
    "- Antes de entrenar un modelo de aprendizaje automático, ¿Podría identificar las variables de entrada de mayor importancia?. Considerar por lo menos dos técnicas para cada variable. Explique brevemente los métodos utilizados.\n",
    "\n",
    "### 4. Entrenamiento de modelos\n",
    "\n",
    "- Para cada uno de los problemas propuestos, defina una lista de modelos candidatos a entrenar. Justifique sus elecciones. \n",
    "\n",
    "- Ensaye distintas cadenas de procesamiento con las técnicas consideradas en la sección 3 (por ejemplo, distintas técnicas de imputación, selección de variables de entrada, codificación de variables categóricas, transformación, etc.).\n",
    "\n",
    "### 5. Evaluación de resultados y conclusiones\n",
    "\n",
    "- ¿Qué puede concluir acerca de los modelos y preparaciones de datos ensayadas? Tener en cuenta como cada preparación afecta a los distintos modelos.\n",
    "\n",
    "### 6. Presentación de resultados\n",
    "\n",
    "- Elabore un informe de dos o tres páginas describiendo el procedimiento realizado y las conclusiones importantes indicando la ruta del código fuente en git.\n"
   ],
   "metadata": {
    "collapsed": false
   }
  },
  {
   "cell_type": "code",
   "execution_count": null,
   "outputs": [],
   "source": [
    "import pandas as pd\n",
    "import numpy as np\n",
    "import matplotlib.pyplot as plt\n",
    "import seaborn as sns\n",
    "sns.set_style()\n",
    "pd.set_option(\"display.max_columns\", None)\n",
    "\n",
    "# sklearn\n",
    "from sklearn.linear_model import LinearRegression\n",
    "from sklearn.linear_model import LogisticRegression\n",
    "from sklearn.ensemble import AdaBoostClassifier\n",
    "from sklearn.ensemble import RandomForestClassifier\n",
    "from sklearn.ensemble import GradientBoostingClassifier\n",
    "from sklearn.neighbors import KNeighborsClassifier\n",
    "from sklearn.svm import SVC\n",
    "from sklearn.preprocessing import StandardScaler\n",
    "\n",
    "from sklearn.preprocessing import LabelEncoder\n",
    "from sklearn.impute import KNNImputer\n",
    "\n",
    "# Partición de train-test set\n",
    "from sklearn.model_selection import train_test_split\n",
    "\n"
   ],
   "metadata": {
    "collapsed": false,
    "pycharm": {
     "name": "#%%\n"
    }
   }
  },
  {
   "cell_type": "markdown",
   "source": [
    "### 1. Análisis exploratorio inicial"
   ],
   "metadata": {
    "collapsed": false
   }
  },
  {
   "cell_type": "code",
   "execution_count": null,
   "outputs": [],
   "source": [
    "weather_aus_df = pd.read_csv('data/weatherAUS.csv', parse_dates=['Date'])\n",
    "weather_aus_df.shape"
   ],
   "metadata": {
    "collapsed": false,
    "pycharm": {
     "name": "#%%\n"
    }
   }
  },
  {
   "cell_type": "code",
   "execution_count": null,
   "outputs": [],
   "source": [
    "weather_aus_df.head(5)"
   ],
   "metadata": {
    "collapsed": false,
    "pycharm": {
     "name": "#%%\n"
    }
   }
  },
  {
   "cell_type": "code",
   "execution_count": null,
   "outputs": [],
   "source": [
    "weather_aus_df.info()"
   ],
   "metadata": {
    "collapsed": false,
    "pycharm": {
     "name": "#%%\n"
    }
   }
  },
  {
   "cell_type": "code",
   "execution_count": null,
   "outputs": [],
   "source": [
    "weather_aus_df.describe()"
   ],
   "metadata": {
    "collapsed": false,
    "pycharm": {
     "name": "#%%\n"
    }
   }
  },
  {
   "cell_type": "markdown",
   "source": [
    "This dataset contains about 10 years of daily weather observations from many locations across Australia.\n",
    "\n",
    "Date: The date of observation\n",
    "Location: The common name of the location of the weather station\n",
    "RainToday: Boolean: 1 if precipitation (mm) in the 24 hours to 9am exceeds 1mm, otherwise 0\n",
    "WindDir3pm: Direction of the wind at 3pm\n",
    "WindDir9am: Direction of the wind at 9am\n",
    "WindGustDir: The direction of the strongest wind gust in the 24 hours to midnight\n",
    "\n",
    "MinTemp: The minimum temperature in degrees celsius\n",
    "MaxTemp: The maximum temperature in degrees celsius\n",
    "Rainfall: The amount of rainfall recorded for the day in mm\n",
    "Evaporation: The so-called Class A pan evaporation (mm) in the 24 hours to 9am\n",
    "Sunshine: The number of hours of bright sunshine in the day.\n",
    "WindGustSpeed: The speed (km/h) of the strongest wind gust in the 24 hours to midnight\n",
    "WindSpeed9am: Wind speed (km/hr) averaged over 10 minutes prior to 9am\n",
    "WindSpeed3pm: Wind speed (km/hr) averaged over 10 minutes prior to 3am\n",
    "Humidity9am: Humidity (percent) at 9am\n",
    "Humidity3pm: Humidity (percent) at 3pm\n",
    "Pressure9am: Atmospheric pressure (hpa) reduced to mean sea level at 9am\n",
    "Pressure3pm: Atmospheric pressure (hpa) reduced to mean sea level at 3pm\n",
    "Cloud9am: Fraction of sky obscured by cloud at 9am. This is measured in \"oktas\", which are a unit of eigths. It records how many eigths of the sky are obscured by cloud. A 0 measure indicates completely clear sky whilst an 8 indicates that it is completely overcast\n",
    "Cloud3pm: Fraction of sky obscured by cloud (in \"oktas\": eighths) at 3pm. See Cload9am for a description of the values\n",
    "Temp9am: Temperature (degrees C) at 9am\n",
    "Temp3pm: Temperature (degrees C) at 3pm\n",
    "\n",
    "RainTomorrow: The target variable. Did it rain tomorrow? (1 = yes, 0 = no )\n"
   ],
   "metadata": {
    "collapsed": false
   }
  },
  {
   "cell_type": "markdown",
   "source": [
    "#### variables numericas"
   ],
   "metadata": {
    "collapsed": false
   }
  },
  {
   "cell_type": "code",
   "execution_count": null,
   "outputs": [],
   "source": [
    "print('Columnas con variables numéricas')\n",
    "numeric_df = weather_aus_df.select_dtypes(exclude=['category', object]).columns\n",
    "numeric_df.values\n"
   ],
   "metadata": {
    "collapsed": false,
    "pycharm": {
     "name": "#%%\n"
    }
   }
  },
  {
   "cell_type": "code",
   "execution_count": null,
   "outputs": [],
   "source": [
    "def distributionPlots(df, numeric_columns):\n",
    "    fig, axes =plt.subplots(6,3, figsize=(20,20))\n",
    "    i = 0\n",
    "    for ax in axes.reshape(-1):\n",
    "        if i< len(numeric_columns):\n",
    "            sns.histplot(data = df, x = numeric_columns[i], ax=ax)\n",
    "            i+=1\n",
    "\n",
    "distributionPlots(weather_aus_df, numeric_df.values)"
   ],
   "metadata": {
    "collapsed": false,
    "pycharm": {
     "name": "#%%\n"
    }
   }
  },
  {
   "cell_type": "markdown",
   "source": [
    "* Date es una variables compuesta (year-month-day), proponemos descomponerlo.\n",
    "* Temp9m, Temp3pm, MinTemp, MaxTemp se asemejan a una normal\n",
    "* WindGustSpeed, WindSpeed9am y WindSpeed3pm son v.a continuas pero no tiene suficientes muestras para completar su distribución.\n",
    "* Rainfall, Evaporation y sunshine tienen otra forma de distribución diferente a una normal o no tienen suficientes muestras.\n",
    "* Humidity9am y Humidity3pm tienen oblicuidad.\n",
    "* Pressure9am y Pressure3pm también se asemejan a una distribución normal.\n",
    "* Cloud3pm y Cloud9am son v.a discretas medidas en ‘Octa’, https://es.wikipedia.org/wiki/Octa"
   ],
   "metadata": {
    "collapsed": false
   }
  },
  {
   "cell_type": "markdown",
   "source": [
    "#### variables categoricas"
   ],
   "metadata": {
    "collapsed": false
   }
  },
  {
   "cell_type": "code",
   "execution_count": null,
   "outputs": [],
   "source": [
    "print('Columnas con variables categóricas')\n",
    "categorical_df = weather_aus_df.select_dtypes(include=['category', object]).columns\n",
    "categorical_df.values"
   ],
   "metadata": {
    "collapsed": false,
    "pycharm": {
     "name": "#%%\n"
    }
   }
  },
  {
   "cell_type": "code",
   "execution_count": null,
   "outputs": [],
   "source": [
    "def countPlots(df, column_names):\n",
    "    fig, axes =plt.subplots(3,2, figsize=(20,20))\n",
    "    i = 0\n",
    "    for ax in axes.reshape(-1):\n",
    "        if i< len(column_names):\n",
    "            sns.countplot(x = column_names[i],\n",
    "                   data = df, ax=ax)\n",
    "            i+=1\n",
    "\n",
    "countPlots(weather_aus_df, categorical_df.values)"
   ],
   "metadata": {
    "collapsed": false,
    "pycharm": {
     "name": "#%%\n"
    }
   }
  },
  {
   "cell_type": "markdown",
   "source": [],
   "metadata": {
    "collapsed": false
   }
  },
  {
   "cell_type": "markdown",
   "source": [
    "* Location,  WindGustDir, WinDir9am y WinDir3pm está bastante bien balanceadas.\n",
    "* WindGustDir, WinDir9am y WinDir3pm tienen las mismas unidades/labels\n",
    "* RainToday y RainTomorrow solo tienen 2 etiquetas ('Yes' o 'No')"
   ],
   "metadata": {
    "collapsed": false
   }
  },
  {
   "cell_type": "markdown",
   "source": [
    "#### Valores unicos/cardinalidad"
   ],
   "metadata": {
    "collapsed": false
   }
  },
  {
   "cell_type": "code",
   "execution_count": null,
   "outputs": [],
   "source": [
    "for i in categorical_df.values:\n",
    "    print(i, weather_aus_df[i].unique(), len(weather_aus_df[i].unique()))"
   ],
   "metadata": {
    "collapsed": false,
    "pycharm": {
     "name": "#%%\n"
    }
   }
  },
  {
   "cell_type": "markdown",
   "source": [
    "* La variable 'Location' posee mayor cardinalidad (49), vamos a proponer Label encoding o dummy encoding (genera mas dimensiones)\n",
    "* Las variables 'WindGustDir', 'WindDir9am' y 'WindDir3pm' se puede usar una transformacion de sin y cosine o Label encoding\n",
    "* Las variables RainToday y RainTomorrow se encuentran desbalanceadas, existen más muestras de cuando no llueve. Usaremos dummy encoding."
   ],
   "metadata": {
    "collapsed": false
   }
  },
  {
   "cell_type": "markdown",
   "source": [
    "#### Variable de salida"
   ],
   "metadata": {
    "collapsed": false
   }
  },
  {
   "cell_type": "code",
   "execution_count": null,
   "outputs": [],
   "source": [
    "weather_aus_df[\"RainTomorrow\"].value_counts()"
   ],
   "metadata": {
    "collapsed": false,
    "pycharm": {
     "name": "#%%\n"
    }
   }
  },
  {
   "cell_type": "code",
   "execution_count": null,
   "outputs": [],
   "source": [
    "fig,axes = plt.subplots(1,1,figsize=(10,5))\n",
    "sns.countplot(x ='RainTomorrow' ,\n",
    "                   data = weather_aus_df, ax=axes)"
   ],
   "metadata": {
    "collapsed": false,
    "pycharm": {
     "name": "#%%\n"
    }
   }
  },
  {
   "cell_type": "markdown",
   "source": [
    "¿Qué técnicas consideraría para codificar la variable de salida?\n",
    "Como trabajaremos con una clasificación binaria entonces la forma de codificar la variable de salida es simple, usamos 1 para Yes y 0 para No (dummy encoding).\n",
    "\n",
    "¿Están balanceadas las clases?\n",
    "Las clases de la variable de salida están desbalanceadas, buscaremos que la proporcion se mantenga en Train,Validation y Test"
   ],
   "metadata": {
    "collapsed": false
   }
  },
  {
   "cell_type": "markdown",
   "source": [
    "### 2. Esquema de validación de resultados\n",
    "tomamos un 20% de los datos para test."
   ],
   "metadata": {
    "collapsed": false
   }
  },
  {
   "cell_type": "code",
   "execution_count": null,
   "outputs": [],
   "source": [
    "\n",
    "train_ratio = 0.80\n",
    "test_ratio = 0.20\n",
    "\n",
    "X_train, X_test, y_train, y_test = train_test_split(weather_aus_df.drop(columns=['RainTomorrow']), weather_aus_df['RainTomorrow'], test_size=test_ratio)\n",
    "print(\"Train: \", X_train.shape,y_train.shape)\n",
    "print(\"Test:\", X_test.shape,y_test.shape)"
   ],
   "metadata": {
    "collapsed": false,
    "pycharm": {
     "name": "#%%\n"
    }
   }
  },
  {
   "cell_type": "markdown",
   "source": [
    "#### Revisar que las distribuciones en train y test que sean parecidas"
   ],
   "metadata": {
    "collapsed": false
   }
  },
  {
   "cell_type": "code",
   "execution_count": null,
   "outputs": [],
   "source": [
    "X_train.describe()"
   ],
   "metadata": {
    "collapsed": false,
    "pycharm": {
     "name": "#%%\n"
    }
   }
  },
  {
   "cell_type": "code",
   "execution_count": null,
   "outputs": [],
   "source": [
    "X_test.describe()"
   ],
   "metadata": {
    "collapsed": false,
    "pycharm": {
     "name": "#%%\n"
    }
   }
  },
  {
   "cell_type": "code",
   "execution_count": null,
   "outputs": [],
   "source": [
    "distributionPlots(X_train, X_train.select_dtypes(exclude=['category', object]).columns.values)"
   ],
   "metadata": {
    "collapsed": false,
    "pycharm": {
     "name": "#%%\n"
    }
   }
  },
  {
   "cell_type": "code",
   "execution_count": null,
   "outputs": [],
   "source": [
    "distributionPlots(X_test, X_test.select_dtypes(exclude=['category', object]).columns.values)\n"
   ],
   "metadata": {
    "collapsed": false,
    "pycharm": {
     "name": "#%%\n"
    }
   }
  },
  {
   "cell_type": "code",
   "execution_count": null,
   "outputs": [],
   "source": [
    "countPlots(X_train, X_train.select_dtypes(include=['category', object]).columns.values)"
   ],
   "metadata": {
    "collapsed": false,
    "pycharm": {
     "name": "#%%\n"
    }
   }
  },
  {
   "cell_type": "code",
   "execution_count": null,
   "outputs": [],
   "source": [
    "countPlots(X_test, X_test.select_dtypes(include=['category', object]).columns.values)"
   ],
   "metadata": {
    "collapsed": false,
    "pycharm": {
     "name": "#%%\n"
    }
   }
  },
  {
   "cell_type": "markdown",
   "source": [
    "* Las distribuciones se asemejan en train y test"
   ],
   "metadata": {
    "collapsed": false
   }
  },
  {
   "cell_type": "code",
   "execution_count": null,
   "outputs": [],
   "source": [
    "for column in weather_aus_df.select_dtypes(include=['category', object]).columns.values:\n",
    "    if column != 'RainTomorrow':\n",
    "        print('categórica {}, labels in train:{}, labels in test:{}'.format(column, len(X_train.dropna()[column].unique()), len(X_test.dropna()[column].unique())))"
   ],
   "metadata": {
    "collapsed": false,
    "pycharm": {
     "name": "#%%\n"
    }
   }
  },
  {
   "cell_type": "markdown",
   "source": [
    "* No hay ninguna etiqueta que aparezca en train y no en test y viceversa."
   ],
   "metadata": {
    "collapsed": false
   }
  },
  {
   "cell_type": "markdown",
   "source": [
    "#### Revisar distribución de variable de salida\n"
   ],
   "metadata": {
    "collapsed": false
   }
  },
  {
   "cell_type": "code",
   "execution_count": null,
   "outputs": [],
   "source": [
    "\n",
    "fig,axes = plt.subplots(1,1,figsize=(10,5))\n",
    "sns.countplot(x ='RainTomorrow' ,\n",
    "              data = y_train.to_frame(), ax=axes)"
   ],
   "metadata": {
    "collapsed": false,
    "pycharm": {
     "name": "#%%\n"
    }
   }
  },
  {
   "cell_type": "code",
   "execution_count": null,
   "outputs": [],
   "source": [
    "fig,axes = plt.subplots(1,1,figsize=(10,5))\n",
    "sns.countplot(x ='RainTomorrow' ,\n",
    "              data = y_test.to_frame(), ax=axes)"
   ],
   "metadata": {
    "collapsed": false,
    "pycharm": {
     "name": "#%%\n"
    }
   }
  },
  {
   "cell_type": "markdown",
   "source": [
    "* Tenemos la misma distribución de la variable de salida en train y test"
   ],
   "metadata": {
    "collapsed": false
   }
  },
  {
   "cell_type": "markdown",
   "source": [
    "#### Porcentaje Valores faltantes en Train y Test"
   ],
   "metadata": {
    "collapsed": false
   }
  },
  {
   "cell_type": "code",
   "execution_count": null,
   "outputs": [],
   "source": [
    "count_nulls = pd.concat([X_train, y_train], axis=1).isnull().sum().sort_values(ascending=False)\n",
    "count_nulls/len(X_train) * 100"
   ],
   "metadata": {
    "collapsed": false,
    "pycharm": {
     "name": "#%%\n"
    }
   }
  },
  {
   "cell_type": "markdown",
   "source": [
    "Similares cantidades de valores faltantes en train y test"
   ],
   "metadata": {
    "collapsed": false
   }
  },
  {
   "cell_type": "code",
   "execution_count": null,
   "outputs": [],
   "source": [
    "count_nulls = pd.concat([X_test, y_test], axis=1).isnull().sum().sort_values(ascending=False)\n",
    "count_nulls/len(X_test) * 100"
   ],
   "metadata": {
    "collapsed": false,
    "pycharm": {
     "name": "#%%\n"
    }
   }
  },
  {
   "cell_type": "markdown",
   "source": [
    "En general las distribuciones de las variables numéricas y categóricas se mantienen en train y test, la variable de salida tambien mantiene similar distribución"
   ],
   "metadata": {
    "collapsed": false
   }
  },
  {
   "cell_type": "markdown",
   "source": [
    "### 3. Limpieza y preparación de datos / ingeniería de features"
   ],
   "metadata": {
    "collapsed": false
   }
  },
  {
   "cell_type": "markdown",
   "source": [
    "#### Imputacion de Valores faltantes"
   ],
   "metadata": {
    "collapsed": false
   }
  },
  {
   "cell_type": "code",
   "execution_count": null,
   "outputs": [],
   "source": [
    "train_df = pd.concat([X_train, y_train], axis=1)\n",
    "\n",
    "count_nulls = train_df.isnull().sum().sort_values(ascending=False)\n",
    "print(\"# columnas con datos faltantes: \", len(count_nulls[count_nulls > 0]))\n",
    "print('Porcentaje de datos faltantes x Columna: ')\n",
    "count_nulls/len(train_df) * 100"
   ],
   "metadata": {
    "collapsed": false,
    "pycharm": {
     "name": "#%%\n"
    }
   }
  },
  {
   "cell_type": "code",
   "execution_count": null,
   "outputs": [],
   "source": [
    "df1 = train_df[train_df.isnull().any(axis=1)]\n",
    "print(\"filas con al menos 1 NaN (%) \", len(df1)/len(train_df) * 100)"
   ],
   "metadata": {
    "collapsed": false,
    "pycharm": {
     "name": "#%%\n"
    }
   }
  },
  {
   "cell_type": "markdown",
   "source": [
    "* Alrededor del 61% de las filas cuentan con al menos 1 dato faltante, no podemos simplemente eliminarlas, analizamos la imputación de variables para cada columna.\n"
   ],
   "metadata": {
    "collapsed": false
   }
  },
  {
   "cell_type": "markdown",
   "source": [
    "#### Imputación de 'Sunshine'\n",
    "Posee muchos valores faltantes (48%). Se elimina la columna porque imputarlo alteraría mucho su distribución.\n",
    "\n",
    "#### Imputación de 'Evaporation'\n",
    "Posee muchos valores faltantes (43%). Se elimina la columna porque imputarlo alteraría mucho su distribución.\n",
    "\n",
    "#### Imputación de Cloud3pm y Cloud9am\n",
    "drop Cloud3pm y Cloud9am, 40% y 38% de datos faltantes. Se elimina la columna porque imputarlo alteraría mucho su distribución."
   ],
   "metadata": {
    "collapsed": false
   }
  },
  {
   "cell_type": "code",
   "execution_count": null,
   "outputs": [],
   "source": [
    "train_df = train_df.drop(columns=['Evaporation', 'Sunshine', 'Cloud3pm', 'Cloud9am'])"
   ],
   "metadata": {
    "collapsed": false,
    "pycharm": {
     "name": "#%%\n"
    }
   }
  },
  {
   "cell_type": "markdown",
   "source": [
    "#### Imputación de Rainfall, RainToday y RainTomorrow"
   ],
   "metadata": {
    "collapsed": false
   }
  },
  {
   "cell_type": "code",
   "execution_count": null,
   "outputs": [],
   "source": [
    "# nulos en 'Rainfall' y 'RainToday' en la misma fila\n",
    "print(train_df['Rainfall'].isnull().sum(), len(train_df[train_df['Rainfall'].isnull() & train_df['RainToday'].isnull()]))"
   ],
   "metadata": {
    "collapsed": false,
    "pycharm": {
     "name": "#%%\n"
    }
   }
  },
  {
   "cell_type": "markdown",
   "source": [
    "* Como Rainfall está relacionado con RainToday, podemos ver que ambos tienen nulos al mismo tiempo. Como la cantidad de nulos es 2.24% podemos simplemente eliminar las filas con datos faltantes."
   ],
   "metadata": {
    "collapsed": false
   }
  },
  {
   "cell_type": "code",
   "execution_count": null,
   "outputs": [],
   "source": [
    "train_df = train_df.dropna(subset=['Rainfall', 'RainToday'])"
   ],
   "metadata": {
    "collapsed": false,
    "pycharm": {
     "name": "#%%\n"
    }
   }
  },
  {
   "cell_type": "markdown",
   "source": [
    "También eliminamos los nulos de 'RainTomorrow' porque son menor al 5%"
   ],
   "metadata": {
    "collapsed": false
   }
  },
  {
   "cell_type": "code",
   "execution_count": null,
   "outputs": [],
   "source": [
    "train_df = train_df.dropna(subset=['RainTomorrow'])"
   ],
   "metadata": {
    "collapsed": false,
    "pycharm": {
     "name": "#%%\n"
    }
   }
  },
  {
   "cell_type": "markdown",
   "source": [
    "#### Remover filas con nulos menor al 5%"
   ],
   "metadata": {
    "collapsed": false
   }
  },
  {
   "cell_type": "code",
   "execution_count": null,
   "outputs": [],
   "source": [
    "train_df = train_df.dropna(subset=['MinTemp', 'MaxTemp', 'WindSpeed9am', 'Temp9am', 'Humidity9am', 'WindSpeed3pm', 'Temp3pm', 'WindDir3pm', 'Humidity3pm'])"
   ],
   "metadata": {
    "collapsed": false,
    "pycharm": {
     "name": "#%%\n"
    }
   }
  },
  {
   "cell_type": "markdown",
   "source": [
    "#### Imputación de WindGustDir y WindDir9am (categóricas)\n",
    "imputación por categoría más frecuente"
   ],
   "metadata": {
    "collapsed": false
   }
  },
  {
   "cell_type": "code",
   "execution_count": null,
   "outputs": [],
   "source": [
    "moda_WindGustDir = train_df['WindGustDir'].value_counts().index[0]\n",
    "moda_WindDir9am = train_df['WindDir9am'].value_counts().index[0]\n",
    "print(moda_WindGustDir, moda_WindDir9am)"
   ],
   "metadata": {
    "collapsed": false,
    "pycharm": {
     "name": "#%%\n"
    }
   }
  },
  {
   "cell_type": "code",
   "execution_count": null,
   "outputs": [],
   "source": [
    "train_df['WindGustDir'] = train_df['WindGustDir'].fillna(moda_WindGustDir)\n",
    "train_df['WindDir9am'] = train_df['WindDir9am'].fillna(moda_WindDir9am)"
   ],
   "metadata": {
    "collapsed": false,
    "pycharm": {
     "name": "#%%\n"
    }
   }
  },
  {
   "cell_type": "markdown",
   "source": [
    "#### Imputación de WindGustSpeed\n",
    "imputación por la mediana"
   ],
   "metadata": {
    "collapsed": false
   }
  },
  {
   "cell_type": "code",
   "execution_count": null,
   "outputs": [],
   "source": [
    "median_WindGustSpeed = train_df['WindGustSpeed'].median()\n",
    "print(median_WindGustSpeed)"
   ],
   "metadata": {
    "collapsed": false,
    "pycharm": {
     "name": "#%%\n"
    }
   }
  },
  {
   "cell_type": "code",
   "execution_count": null,
   "outputs": [],
   "source": [
    "train_df['WindGustSpeed'] = train_df['WindGustSpeed'].fillna(median_WindGustSpeed)"
   ],
   "metadata": {
    "collapsed": false,
    "pycharm": {
     "name": "#%%\n"
    }
   }
  },
  {
   "cell_type": "markdown",
   "source": [
    "#### Imputación de Pressure3pm y Pressure9am\n",
    "presentan alrededor del 10% de nulos\n",
    "Imputación por KNN o imputacion por mediana"
   ],
   "metadata": {
    "collapsed": false
   }
  },
  {
   "cell_type": "code",
   "execution_count": null,
   "outputs": [],
   "source": [
    "median_Pressure9am = train_df['Pressure9am'].median()\n",
    "print(median_Pressure9am)\n",
    "\n",
    "median_Pressure3pm = train_df['Pressure3pm'].median()\n",
    "print(median_Pressure3pm)"
   ],
   "metadata": {
    "collapsed": false,
    "pycharm": {
     "name": "#%%\n"
    }
   }
  },
  {
   "cell_type": "code",
   "execution_count": null,
   "outputs": [],
   "source": [
    "train_df['Pressure9am_median'] = train_df['Pressure9am'].fillna(median_Pressure9am)\n",
    "train_df['Pressure3pm_median'] = train_df['Pressure3pm'].fillna(median_Pressure3pm)"
   ],
   "metadata": {
    "collapsed": false,
    "pycharm": {
     "name": "#%%\n"
    }
   }
  },
  {
   "cell_type": "code",
   "execution_count": null,
   "outputs": [],
   "source": [
    "\n",
    "knn_df = train_df[['MinTemp', 'MaxTemp', 'Rainfall', 'WindSpeed9am', 'WindSpeed3pm', 'Humidity3pm', 'Humidity3pm', 'Pressure3pm', 'Pressure9am', 'Temp3pm', 'Temp9am']]\n",
    "imputer = KNNImputer(n_neighbors=3)\n",
    "X_train_knn_imp = imputer.fit_transform(knn_df)"
   ],
   "metadata": {
    "collapsed": false,
    "pycharm": {
     "name": "#%%\n"
    }
   }
  },
  {
   "cell_type": "code",
   "execution_count": null,
   "outputs": [],
   "source": [
    "train_df.loc[:, 'Pressure3pm'] = X_train_knn_imp[:, 7]\n",
    "train_df.loc[:, 'Pressure9am'] = X_train_knn_imp[:, 8]"
   ],
   "metadata": {
    "collapsed": false,
    "pycharm": {
     "name": "#%%\n"
    }
   }
  },
  {
   "cell_type": "markdown",
   "source": [
    "#### Codificacion de variables categoricas"
   ],
   "metadata": {
    "collapsed": false
   }
  },
  {
   "cell_type": "markdown",
   "source": [
    "### Date\n",
    "Para esto dividimos la fecha en year, month, date"
   ],
   "metadata": {
    "collapsed": false
   }
  },
  {
   "cell_type": "code",
   "execution_count": null,
   "outputs": [],
   "source": [
    "train_df.loc[:,'Date_day'] = train_df['Date'].apply(lambda  x: x.day)\n",
    "train_df.loc[:,'Date_month'] = train_df['Date'].apply(lambda  x: x.month)\n",
    "train_df.loc[:,'Date_year'] = train_df['Date'].apply(lambda  x: x.year)"
   ],
   "metadata": {
    "collapsed": false,
    "pycharm": {
     "name": "#%%\n"
    }
   }
  },
  {
   "cell_type": "markdown",
   "source": [
    "* Podríamos pensar que el mes tiene más relacion con la variable objetivo."
   ],
   "metadata": {
    "collapsed": false
   }
  },
  {
   "cell_type": "markdown",
   "source": [
    "### Location\n",
    "Hacemos label encoding porque genera solo 1 columna, si aplicáramos dummy encoding generaría 48 columnas\n"
   ],
   "metadata": {
    "collapsed": false
   }
  },
  {
   "cell_type": "code",
   "execution_count": null,
   "outputs": [],
   "source": [
    "location_le = LabelEncoder()\n",
    "location_le.fit(train_df['Location'])\n",
    "len(list(location_le.classes_))"
   ],
   "metadata": {
    "collapsed": false,
    "pycharm": {
     "name": "#%%\n"
    }
   }
  },
  {
   "cell_type": "code",
   "execution_count": null,
   "outputs": [],
   "source": [
    "train_df.loc[:, 'Location_le'] = location_le.transform(train_df['Location'])"
   ],
   "metadata": {
    "collapsed": false,
    "pycharm": {
     "name": "#%%\n"
    }
   }
  },
  {
   "cell_type": "markdown",
   "source": [
    "### WindGustDir, WindDir3pm y WindDir9am\n",
    "Hacemos una transformacion por sin y cos o label encoding"
   ],
   "metadata": {
    "collapsed": false
   }
  },
  {
   "cell_type": "code",
   "execution_count": null,
   "outputs": [],
   "source": [
    "# traduccion a grados sexagesimales\n",
    "windDir_grados = {'E': 0, 'ENE': 22.5, 'NE': 45, 'NNE': 67.5, 'N':90, 'NNW': 112.5, 'NW': 135, 'WNW': 157.5, 'W': 180,\n",
    "                  'WSW':202.5, 'SW': 225, 'SSW':247.5, 'S':270, 'SSE':292.5, 'SE':315, 'ESE': 337.5}"
   ],
   "metadata": {
    "collapsed": false,
    "pycharm": {
     "name": "#%%\n"
    }
   }
  },
  {
   "cell_type": "code",
   "execution_count": null,
   "outputs": [],
   "source": [
    "def sin_wind_dir(wind):\n",
    "    return np.sin(windDir_grados[wind]*np.pi/180)\n",
    "def cos_wind_dir(wind):\n",
    "    return np.cos(windDir_grados[wind]*np.pi/180)\n",
    "\n",
    "train_df['WindGustDir_sin'] = train_df['WindGustDir'].apply(sin_wind_dir)\n",
    "train_df['WindGustDir_cos'] = train_df['WindGustDir'].apply(cos_wind_dir)\n",
    "train_df['WindDir3pm_sin'] = train_df['WindDir3pm'].apply(sin_wind_dir)\n",
    "train_df['WindDir3pm_cos'] = train_df['WindDir3pm'].apply(cos_wind_dir)\n",
    "train_df['WindDir9am_sin'] = train_df['WindDir9am'].apply(sin_wind_dir)\n",
    "train_df['WindDir9am_cos'] = train_df['WindDir9am'].apply(cos_wind_dir)"
   ],
   "metadata": {
    "collapsed": false,
    "pycharm": {
     "name": "#%%\n"
    }
   }
  },
  {
   "cell_type": "code",
   "execution_count": null,
   "outputs": [],
   "source": [
    "windDir_le = LabelEncoder()\n",
    "windDir_le.fit(train_df['WindGustDir'])\n",
    "len(list(windDir_le.classes_))"
   ],
   "metadata": {
    "collapsed": false,
    "pycharm": {
     "name": "#%%\n"
    }
   }
  },
  {
   "cell_type": "code",
   "execution_count": null,
   "outputs": [],
   "source": [
    "train_df.loc[:, 'WindGustDir_le'] = windDir_le.transform(train_df['WindGustDir'])\n",
    "train_df.loc[:, 'WindDir3pm_le'] = windDir_le.transform(train_df['WindDir3pm'])\n",
    "train_df.loc[:, 'WindDir9am_le'] = windDir_le.transform(train_df['WindDir9am'])"
   ],
   "metadata": {
    "collapsed": false,
    "pycharm": {
     "name": "#%%\n"
    }
   }
  },
  {
   "cell_type": "markdown",
   "source": [
    "### 'RainToday' y 'RainTomorrow'\n",
    "dummy encoding, como solo hay dos clases, conviene reemplazar yes=1 y no=0\n"
   ],
   "metadata": {
    "collapsed": false
   }
  },
  {
   "cell_type": "code",
   "execution_count": null,
   "outputs": [],
   "source": [
    "train_df.loc[:, 'RainToday_enc'] = train_df['RainToday'].replace(('Yes', 'No'), (1, 0))\n",
    "train_df.loc[:, 'RainTomorrow_enc'] = train_df['RainTomorrow'].replace(('Yes', 'No'), (1, 0))"
   ],
   "metadata": {
    "collapsed": false,
    "pycharm": {
     "name": "#%%\n"
    }
   }
  },
  {
   "cell_type": "markdown",
   "source": [
    "##### Tratamiento de valores extremos\n",
    "Análisis de valores extremos"
   ],
   "metadata": {
    "collapsed": false
   }
  },
  {
   "cell_type": "code",
   "execution_count": null,
   "outputs": [],
   "source": [
    "columns = ['MinTemp', 'MaxTemp', 'Rainfall', 'WindGustSpeed', 'WindSpeed9am', 'WindSpeed3pm', 'Humidity9am', 'Humidity3pm', 'Pressure9am', 'Pressure3pm', 'Temp9am', 'Temp3pm']"
   ],
   "metadata": {
    "collapsed": false,
    "pycharm": {
     "name": "#%%\n"
    }
   }
  },
  {
   "cell_type": "code",
   "execution_count": null,
   "outputs": [],
   "source": [
    "def boxplots(df, columns):\n",
    "    fig, axes =plt.subplots(4,3, figsize=(20,15))\n",
    "    i = 0\n",
    "    for ax in axes.reshape(-1):\n",
    "        if i< len(columns):\n",
    "            sns.boxplot(data = df, x = columns[i], ax=ax)\n",
    "            i+=1\n",
    "\n",
    "boxplots(train_df, columns)\n"
   ],
   "metadata": {
    "collapsed": false,
    "pycharm": {
     "name": "#%%\n"
    }
   }
  },
  {
   "cell_type": "markdown",
   "source": [
    "* podríamos eliminar outliers de distribuciones que se asemejen mas a un normal: 'MinTemp', 'MaxTemp',  'Pressure9am', 'Pressure3pm', 'Temp9am', 'Temp3pm'\n",
    "* WinGustSpeed, WindSpeed9am y WindSpeed3pm como vimos antes no poseen muchas muestras, por lo tanto, no se puede decir mucho sobre los outliers.\n",
    "* A simple vista podríamos pensar que 'Rainfall' presenta muchos outliers"
   ],
   "metadata": {
    "collapsed": false
   }
  },
  {
   "cell_type": "markdown",
   "source": [
    "### Rainfall\n",
    "Podríamos intuir que posee muchos outliers"
   ],
   "metadata": {
    "collapsed": false
   }
  },
  {
   "cell_type": "code",
   "execution_count": null,
   "outputs": [],
   "source": [
    "train_df[train_df['RainToday'] == 'Yes']['Rainfall'].describe()"
   ],
   "metadata": {
    "collapsed": false,
    "pycharm": {
     "name": "#%%\n"
    }
   }
  },
  {
   "cell_type": "code",
   "execution_count": null,
   "outputs": [],
   "source": [
    "train_df[train_df['RainToday'] == 'No']['Rainfall'].describe()"
   ],
   "metadata": {
    "collapsed": false,
    "pycharm": {
     "name": "#%%\n"
    }
   }
  },
  {
   "cell_type": "markdown",
   "source": [
    "* Notamos que cuando Rainfall>1mm entonces RainToday=Yes"
   ],
   "metadata": {
    "collapsed": false
   }
  },
  {
   "cell_type": "code",
   "execution_count": null,
   "outputs": [],
   "source": [
    "# scatter plot con la variable Humidity9am\n",
    "fig,axes = plt.subplots(1,1,figsize=(15,8))\n",
    "sns.scatterplot(data=train_df, x=\"Humidity9am\", y=\"Rainfall\", hue=\"RainToday\", ax=axes)"
   ],
   "metadata": {
    "collapsed": false,
    "pycharm": {
     "name": "#%%\n"
    }
   }
  },
  {
   "cell_type": "markdown",
   "source": [
    "* El boxplot no muestra la distribución real de Rainfall, esto debido a que RainToday está desbalanceado.\n",
    "* No podemos simplemente eliminar los outliers, porque eliminaríamos muchos casos de 'RainToday'=Yes"
   ],
   "metadata": {
    "collapsed": false
   }
  },
  {
   "cell_type": "markdown",
   "source": [
    "### Funciones de pre-procesamiento\n",
    "Con base en lo definido en imputación y codificación de variables categóricas, construimos funciones con diferentes pre-procesamiento"
   ],
   "metadata": {
    "collapsed": false
   }
  },
  {
   "cell_type": "code",
   "execution_count": null,
   "outputs": [],
   "source": [
    "'''\n",
    "# 'WindGustDir y WindDir9am' imputación por moda\n",
    "# 'WindGustSpeed' imputación por mediana\n",
    "# 'Pressure3pm' y 'Pressure9am' imputación por kNN\n",
    "\n",
    "# 'Date' year-month-day decomposition encoding\n",
    "# 'Location' label encoding\n",
    "# 'WindGustDir, WindDir9am, WindDir3pm' sin/cosine transformation\n",
    "# 'RainToday, RainTomorrow' dummy encoding\n",
    "'''\n",
    "def pre_processing_1(XY_df):\n",
    "    XY_result_df = XY_df.copy(deep=True)\n",
    "\n",
    "    # drop columns with >40% faltantes\n",
    "    XY_result_df = XY_result_df.drop(columns=['Evaporation', 'Sunshine', 'Cloud3pm', 'Cloud9am'])\n",
    "\n",
    "    # dropna RainTomorrow, Rainfall y RainToday\n",
    "    XY_result_df = XY_result_df.dropna(subset=['Rainfall', 'RainToday'])\n",
    "    XY_result_df = XY_result_df.dropna(subset=['RainTomorrow'])\n",
    "\n",
    "    # drop nulls < 5%\n",
    "    XY_result_df = XY_result_df.dropna(subset=['MinTemp', 'MaxTemp', 'WindSpeed9am', 'Temp9am', 'Humidity9am', 'WindSpeed3pm', 'Temp3pm', 'WindDir3pm', 'Humidity3pm'])\n",
    "\n",
    "    # WindGustDir y WindDir9am imputer por moda\n",
    "    XY_result_df['WindGustDir'] = XY_result_df['WindGustDir'].fillna(moda_WindGustDir)\n",
    "    XY_result_df['WindDir9am'] = XY_result_df['WindDir9am'].fillna(moda_WindDir9am)\n",
    "\n",
    "    # WindGustSpeed imputer por median\n",
    "    XY_result_df['WindGustSpeed'] = XY_result_df['WindGustSpeed'].fillna(median_WindGustSpeed)\n",
    "\n",
    "    # kNN imputer Pressure3pm y Pressure9am\n",
    "\n",
    "    knn_df = XY_result_df[['MinTemp', 'MaxTemp', 'Rainfall', 'WindSpeed9am', 'WindSpeed3pm', 'Humidity3pm', 'Humidity3pm', 'Pressure3pm', 'Pressure9am', 'Temp3pm', 'Temp9am']]\n",
    "    X_train_knn_imp = imputer.transform(knn_df)\n",
    "    XY_result_df.loc[:, 'Pressure3pm'] = X_train_knn_imp[:, 7]\n",
    "    XY_result_df.loc[:, 'Pressure9am'] = X_train_knn_imp[:, 8]\n",
    "\n",
    "    # Date encoding\n",
    "    XY_result_df.loc[:,'Date_day'] = XY_result_df['Date'].apply(lambda  x: x.day)\n",
    "    XY_result_df.loc[:,'Date_month'] = XY_result_df['Date'].apply(lambda  x: x.month)\n",
    "    XY_result_df.loc[:,'Date_year'] = XY_result_df['Date'].apply(lambda  x: x.year)\n",
    "\n",
    "    # Location encoding\n",
    "    XY_result_df.loc[:, 'Location_le'] = location_le.transform(XY_result_df['Location'])\n",
    "\n",
    "    # wind direction encoding\n",
    "    XY_result_df['WindGustDir_sin'] = XY_result_df['WindGustDir'].apply(sin_wind_dir)\n",
    "    XY_result_df['WindGustDir_cos'] = XY_result_df['WindGustDir'].apply(cos_wind_dir)\n",
    "    XY_result_df['WindDir3pm_sin'] = XY_result_df['WindDir3pm'].apply(sin_wind_dir)\n",
    "    XY_result_df['WindDir3pm_cos'] = XY_result_df['WindDir3pm'].apply(cos_wind_dir)\n",
    "    XY_result_df['WindDir9am_sin'] = XY_result_df['WindDir9am'].apply(sin_wind_dir)\n",
    "    XY_result_df['WindDir9am_cos'] = XY_result_df['WindDir9am'].apply(cos_wind_dir)\n",
    "\n",
    "    # rainToday, rainTomorrow encoding\n",
    "    XY_result_df.loc[:, 'RainToday_enc'] = XY_result_df['RainToday'].replace(('Yes', 'No'), (1, 0))\n",
    "    XY_result_df.loc[:, 'RainTomorrow_enc'] = XY_result_df['RainTomorrow'].replace(('Yes', 'No'), (1, 0))\n",
    "\n",
    "    return XY_result_df\n"
   ],
   "metadata": {
    "collapsed": false,
    "pycharm": {
     "name": "#%%\n"
    }
   }
  },
  {
   "cell_type": "code",
   "execution_count": 1014,
   "outputs": [],
   "source": [
    "'''\n",
    "# 'WindGustDir y WindDir9am' imputación por moda\n",
    "# 'WindGustSpeed' imputación por mediana\n",
    "# 'Pressure3pm y Pressure9am' imputación por mediana\n",
    "\n",
    "# 'Date' year-month-day decomposition encoding\n",
    "# 'Location' label encoding\n",
    "# 'WindGustDir, WindDir9am, WindDir3pm' label encoding\n",
    "# 'RainToday, RainTomorrow' dummy encoding\n",
    "'''\n",
    "def pre_processing_2(XY_df):\n",
    "    XY_result_df = XY_df.copy(deep=True)\n",
    "\n",
    "    # drop columns with >40% faltantes\n",
    "    XY_result_df = XY_result_df.drop(columns=['Evaporation', 'Sunshine', 'Cloud3pm', 'Cloud9am'])\n",
    "\n",
    "    # dropna RainTomorrow, Rainfall y RainToday\n",
    "    XY_result_df = XY_result_df.dropna(subset=['Rainfall', 'RainToday'])\n",
    "    XY_result_df = XY_result_df.dropna(subset=['RainTomorrow'])\n",
    "\n",
    "    # drop nulls < 5%\n",
    "    XY_result_df = XY_result_df.dropna(subset=['MinTemp', 'MaxTemp', 'WindSpeed9am', 'Temp9am', 'Humidity9am', 'WindSpeed3pm', 'Temp3pm', 'WindDir3pm', 'Humidity3pm'])\n",
    "\n",
    "    # WindGustDir y WindDir9am imputer por moda\n",
    "    XY_result_df['WindGustDir'] = XY_result_df['WindGustDir'].fillna(moda_WindGustDir)\n",
    "    XY_result_df['WindDir9am'] = XY_result_df['WindDir9am'].fillna(moda_WindDir9am)\n",
    "\n",
    "    # WindGustSpeed imputer por median\n",
    "    XY_result_df['WindGustSpeed'] = XY_result_df['WindGustSpeed'].fillna(median_WindGustSpeed)\n",
    "\n",
    "    #Pressure3pm y Pressure9am imputación por mediana\n",
    "    XY_result_df['Pressure9am_median'] = XY_result_df['Pressure9am'].fillna(median_Pressure9am)\n",
    "    XY_result_df['Pressure3pm_median'] = XY_result_df['Pressure3pm'].fillna(median_Pressure3pm)\n",
    "\n",
    "    # Date encoding\n",
    "    XY_result_df.loc[:,'Date_day'] = XY_result_df['Date'].apply(lambda  x: x.day)\n",
    "    XY_result_df.loc[:,'Date_month'] = XY_result_df['Date'].apply(lambda  x: x.month)\n",
    "    XY_result_df.loc[:,'Date_year'] = XY_result_df['Date'].apply(lambda  x: x.year)\n",
    "\n",
    "    # Location encoding\n",
    "    XY_result_df.loc[:, 'Location_le'] = location_le.transform(XY_result_df['Location'])\n",
    "\n",
    "    # wind direction encoding\n",
    "    XY_result_df.loc[:, 'WindGustDir_le'] = windDir_le.transform(XY_result_df['WindGustDir'])\n",
    "    XY_result_df.loc[:, 'WindDir3pm_le'] = windDir_le.transform(XY_result_df['WindDir3pm'])\n",
    "    XY_result_df.loc[:, 'WindDir9am_le'] = windDir_le.transform(XY_result_df['WindDir9am'])\n",
    "\n",
    "    # rainToday, rainTomorrow encoding\n",
    "    XY_result_df.loc[:, 'RainToday_enc'] = XY_result_df['RainToday'].replace(('Yes', 'No'), (1, 0))\n",
    "    XY_result_df.loc[:, 'RainTomorrow_enc'] = XY_result_df['RainTomorrow'].replace(('Yes', 'No'), (1, 0))\n",
    "\n",
    "    return XY_result_df"
   ],
   "metadata": {
    "collapsed": false,
    "pycharm": {
     "name": "#%%\n"
    }
   }
  },
  {
   "cell_type": "code",
   "execution_count": null,
   "outputs": [],
   "source": [
    "train_df.head()"
   ],
   "metadata": {
    "collapsed": false,
    "pycharm": {
     "name": "#%%\n"
    }
   }
  },
  {
   "cell_type": "markdown",
   "source": [
    "#### Seleccion de features"
   ],
   "metadata": {
    "collapsed": false
   }
  },
  {
   "cell_type": "code",
   "execution_count": null,
   "outputs": [],
   "source": [
    "numeric_c_columns = ['MinTemp', 'MaxTemp', 'Rainfall', 'WindGustSpeed', 'WindSpeed3pm', 'WindSpeed9am', 'Humidity3pm', 'Humidity9am', 'Pressure9am', 'Pressure3pm', 'Temp9am', 'Temp3pm', 'Pressure3pm_median', 'Pressure9am_median', 'WindDir9am_sin', 'WindDir9am_cos', 'WindDir3pm_sin', 'WindDir3pm_cos', 'WindGustDir_sin', 'WindGustDir_cos']\n",
    "\n",
    "numeric_d_columns = ['Location_le', 'Date_day', 'Date_month', 'Date_year', 'RainToday_enc', 'WindGustDir_le', 'WindDir3pm_le', 'WindDir9am_le']\n",
    "\n",
    "categorical_columns = ['Location', 'WindGustDir', 'WindDir9am', 'WindDir3pm']\n",
    "target_column=['RainTomorrow_enc']\n",
    "\n",
    "XY_train_df = train_df\n",
    "X_train_df = train_df.drop(columns='RainTomorrow_enc')\n",
    "y_train_df = train_df[target_column]"
   ],
   "metadata": {
    "collapsed": false,
    "pycharm": {
     "name": "#%%\n"
    }
   }
  },
  {
   "cell_type": "code",
   "execution_count": null,
   "outputs": [],
   "source": [
    "from scipy import stats\n",
    "def qqPlots(df, numeric_columns):\n",
    "    fig, axes =plt.subplots(4,3, figsize=(20,22))\n",
    "    i = 0\n",
    "    for ax in axes.reshape(-1):\n",
    "        if i< len(numeric_columns):\n",
    "            stats.probplot(df[numeric_columns[i]], dist=\"norm\", plot=ax)\n",
    "            ax.set_title(numeric_columns[i])\n",
    "            i+=1\n",
    "\n",
    "qqPlots(XY_train_df, numeric_c_columns)"
   ],
   "metadata": {
    "collapsed": false,
    "pycharm": {
     "name": "#%%\n"
    }
   }
  },
  {
   "cell_type": "markdown",
   "source": [
    "* Como vimos anteriormente MinTemp, MaxTemp, Pressure9am,  Pressure3pm, Temp9am y Temp3pm se asemejan mas a una normal.\n",
    "por lo tanto podríamos analizar sus correlaciones con Pearson\n"
   ],
   "metadata": {
    "collapsed": false
   }
  },
  {
   "cell_type": "markdown",
   "source": [
    "#### Correlacion pearson/spearman"
   ],
   "metadata": {
    "collapsed": false
   }
  },
  {
   "cell_type": "code",
   "execution_count": null,
   "outputs": [],
   "source": [
    "normal_columns = ['MinTemp', 'MaxTemp', 'Pressure9am', 'Pressure3pm', 'Temp9am', 'Temp3pm']"
   ],
   "metadata": {
    "collapsed": false,
    "pycharm": {
     "name": "#%%\n"
    }
   }
  },
  {
   "cell_type": "code",
   "execution_count": null,
   "outputs": [],
   "source": [
    "# correlacion pearson\n",
    "correlation_matrix = XY_train_df[normal_columns].corr().round(2)\n",
    "fig,axes = plt.subplots(1,1,figsize=(20,10))\n",
    "sns.heatmap(data=correlation_matrix, annot=True,ax=axes)"
   ],
   "metadata": {
    "collapsed": false,
    "pycharm": {
     "name": "#%%\n"
    }
   }
  },
  {
   "cell_type": "markdown",
   "source": [
    "* Podemos ver que 'MinTemp', 'MaxTemp', 'Temp9am', 'Temp3pm', 'MaxTemp' están altamente correlacionadas (escogeremos solo la que mejor se relacione con la salida)\n",
    "* Podemos ver que 'Pressure9am' y 'Pressure3pm' están altamente correlacionadas"
   ],
   "metadata": {
    "collapsed": false
   }
  },
  {
   "cell_type": "code",
   "execution_count": null,
   "outputs": [],
   "source": [
    "correlation_matrix = XY_train_df.corr(method='spearman').round(2)\n",
    "fig,axes = plt.subplots(1,1,figsize=(25,25))\n",
    "sns.heatmap(data=correlation_matrix, annot=True,ax=axes)"
   ],
   "metadata": {
    "collapsed": false,
    "pycharm": {
     "name": "#%%\n"
    }
   }
  },
  {
   "cell_type": "markdown",
   "source": [
    "#### Informacion Mutua¶"
   ],
   "metadata": {
    "collapsed": false
   }
  },
  {
   "cell_type": "code",
   "execution_count": 1032,
   "outputs": [
    {
     "data": {
      "text/plain": "<Figure size 1800x360 with 2 Axes>",
      "image/png": "[encoded data removed]"
     },
     "metadata": {
      "needs_background": "light"
     },
     "output_type": "display_data"
    }
   ],
   "source": [
    "# informacion mutua\n",
    "from sklearn.feature_selection import mutual_info_classif\n",
    "\n",
    "MI = mutual_info_classif(X_train_df[numeric_c_columns], y_train_df['RainTomorrow_enc'].to_numpy())\n",
    "fig, ax = plt.subplots(1,1, figsize=(25,5))\n",
    "ax.set_title('Información mutua contra RainTomorrow')\n",
    "sns.heatmap([MI],ax=ax,cmap=sns.diverging_palette(220,10,as_cmap=True), annot=True,fmt=\".2f\")\n",
    "ax.set_xticklabels(numeric_c_columns)\n",
    "ax.tick_params(axis='x', rotation=45)"
   ],
   "metadata": {
    "collapsed": false,
    "pycharm": {
     "name": "#%%\n"
    }
   }
  },
  {
   "cell_type": "code",
   "execution_count": null,
   "outputs": [],
   "source": [
    "MI = mutual_info_classif(X_train_df[numeric_d_columns], y_train_df['RainTomorrow_enc'].to_numpy(), discrete_features=True)\n",
    "fig, ax = plt.subplots(1,1, figsize=(25,5))\n",
    "ax.set_title('Información mutua contra RainTomorrow')\n",
    "sns.heatmap([MI],ax=ax,cmap=sns.diverging_palette(220,10,as_cmap=True), annot=True,fmt=\".2f\")\n",
    "ax.set_xticklabels(numeric_d_columns)\n",
    "ax.tick_params(axis='x', rotation=45)"
   ],
   "metadata": {
    "collapsed": false,
    "pycharm": {
     "name": "#%%\n"
    }
   }
  },
  {
   "cell_type": "code",
   "execution_count": null,
   "outputs": [],
   "source": [
    "MI = mutual_info_classif(X_train_df[numeric_c_columns], X_train_df['RainToday_enc'].to_numpy())\n",
    "fig, ax = plt.subplots(1,1, figsize=(25,5))\n",
    "ax.set_title('Información mutua contra RainToday')\n",
    "sns.heatmap([MI],ax=ax,cmap=sns.diverging_palette(220,10,as_cmap=True), annot=True,fmt=\".2f\")\n",
    "ax.set_xticklabels(numeric_c_columns)\n",
    "ax.tick_params(axis='x', rotation=45)"
   ],
   "metadata": {
    "collapsed": false,
    "pycharm": {
     "name": "#%%\n"
    }
   }
  },
  {
   "cell_type": "code",
   "execution_count": null,
   "outputs": [],
   "source": [
    "MI = mutual_info_classif(X_train_df[numeric_d_columns], X_train_df['RainToday_enc'].to_numpy(), discrete_features=True)\n",
    "fig, ax = plt.subplots(1,1, figsize=(25,5))\n",
    "ax.set_title('Información mutua contra RainToday')\n",
    "sns.heatmap([MI],ax=ax,cmap=sns.diverging_palette(220,10,as_cmap=True), annot=True,fmt=\".2f\")\n",
    "ax.set_xticklabels(numeric_d_columns)\n",
    "ax.tick_params(axis='x', rotation=45)"
   ],
   "metadata": {
    "collapsed": false,
    "pycharm": {
     "name": "#%%\n"
    }
   }
  },
  {
   "cell_type": "markdown",
   "source": [
    "* Suponemos que los datos metereológicos del dia de hoy tienen una relacion con 'RainToday'.\n",
    "* Como se observa 'Rainfall' y 'RainToday' tienen dependencia."
   ],
   "metadata": {
    "collapsed": false
   }
  },
  {
   "cell_type": "markdown",
   "source": [
    "Nos quedamos con las siguientes variables:"
   ],
   "metadata": {
    "collapsed": false
   }
  },
  {
   "cell_type": "code",
   "execution_count": 1031,
   "outputs": [],
   "source": [
    "feature_selection_1 = ['Location_le', 'Date_month', 'WindDir9am_sin', 'WindDir9am_cos', 'WindGustSpeed', 'Humidity3pm', 'Temp3pm', 'Pressure9am', 'Rainfall']\n",
    "\n",
    "feature_selection_2 = ['Location_le', 'Date_month', 'WindGustDir_le', 'WindGustSpeed', 'Humidity3pm', 'Temp3pm', 'Pressure9am_median', 'Rainfall']\n",
    "\n",
    "X_train_s1 = X_train_df[feature_selection_1]\n",
    "X_train_s2 = X_train_df[feature_selection_2]\n",
    "y_train = y_train_df"
   ],
   "metadata": {
    "collapsed": false,
    "pycharm": {
     "name": "#%%\n"
    }
   }
  },
  {
   "cell_type": "markdown",
   "source": [
    "### 4. Entrenamiento de modelos"
   ],
   "metadata": {
    "collapsed": false
   }
  },
  {
   "cell_type": "code",
   "execution_count": null,
   "outputs": [],
   "source": [
    "from sklearn.metrics import precision_recall_fscore_support\n",
    "from sklearn.metrics import classification_report\n",
    "from sklearn.metrics import f1_score\n",
    "from sklearn.metrics import confusion_matrix\n",
    "from sklearn.model_selection import StratifiedKFold\n",
    "from sklearn.model_selection import ParameterGrid\n",
    "from sklearn.model_selection import GridSearchCV"
   ],
   "metadata": {
    "collapsed": false,
    "pycharm": {
     "name": "#%%\n"
    }
   }
  },
  {
   "cell_type": "code",
   "execution_count": null,
   "outputs": [],
   "source": [
    "class LogisticRegressionNumpy(object):\n",
    "\n",
    "    def __init__(self):\n",
    "        self.w = None\n",
    "\n",
    "    \"\"\"\n",
    "        :param X: X_train\n",
    "        :param y: y_train\n",
    "        :param lr: learning rate\n",
    "        :param epochs: number of epochs\n",
    "        :param b: batch size for mini-batch\n",
    "        :param gradient: type of gradient descent: 'SGD', 'MINI', 'BGD'\n",
    "    \"\"\"\n",
    "    def fit(self, X=None, y=None, lr=0.01, epochs=100, b=16, gradient='SGD'):\n",
    "\n",
    "        X_expanded = np.hstack((np.ones((len(X),1)),X))\n",
    "\n",
    "        if gradient == 'MINI':\n",
    "            h, w = self.mini_batch_gradient_descent(X_expanded, y, lr, epochs, b)\n",
    "            self.w = w\n",
    "            return h, w\n",
    "\n",
    "    def predict(self, X):\n",
    "        X_expanded = np.hstack((np.ones((len(X),1)),X))\n",
    "        pred = self.sigmoid(np.dot(X_expanded, self.w))\n",
    "        return np.array([1 if i >= 0.5 else 0 for i in pred])\n",
    "\n",
    "    def sigmoid(self, x):\n",
    "        return 1 / (1 + np.exp(-x))\n",
    "\n",
    "    def bce(self, X, y, theta):\n",
    "        h = self.sigmoid(np.dot(X, theta))\n",
    "        return (1 / len(y)) * ((np.dot((-y).T, np.log(h))) - (np.dot((1 - y).T, np.log(1 - h))))\n",
    "\n",
    "    # definimos la función loss para reportarla cada cierta cantidad de epochs\n",
    "    def loss(self, y, y_hat):\n",
    "        loss = np.mean(-y*(np.log(y_hat)) - (1-y)*np.log(1-y_hat))\n",
    "        return loss\n",
    "\n",
    "\n",
    "    def mini_batch_gradient_descent(self, X, y, lr=0.01, amt_epochs=100, b=16):\n",
    "        \"\"\"\n",
    "        shapes:\n",
    "            X_train = nxm\n",
    "            y_train = nx1\n",
    "            W = mx1\n",
    "        \"\"\"\n",
    "\n",
    "        n = X.shape[0]\n",
    "        m = X.shape[1]\n",
    "\n",
    "        # initialize random weights\n",
    "        W = np.random.randn(m).reshape(m, 1)\n",
    "        hist_cos = np.zeros((amt_epochs, 1))\n",
    "        # iterate over the n_epochs\n",
    "        for j in range(amt_epochs):\n",
    "\n",
    "            # Shuffle all the samples\n",
    "            idx = np.random.permutation(X.shape[0])\n",
    "            X_train = X[idx]\n",
    "            y_train = y[idx]\n",
    "\n",
    "            # Calculate the batch size in samples as a function of the number of batches\n",
    "            batch_size = int(len(X_train) / b)\n",
    "\n",
    "            # Iterate over the batches\n",
    "            for i in range(0, len(X_train), batch_size):\n",
    "                end = i + batch_size if i + batch_size <= len(X_train) else len(X_train)\n",
    "                batch_X = X_train[i: end]  # batch_size*m\n",
    "                batch_y = y_train[i: end]  # batch_size*1\n",
    "\n",
    "                # Update the weights\n",
    "                #W = W - (lr / batch_size) * np.dot(batch_X.T, (self.sigmoid(np.dot(batch_X, W)) - batch_y))\n",
    "\n",
    "                prediction = self.sigmoid(np.sum(np.transpose(W) * batch_X, axis=1))\n",
    "                error = prediction.reshape(-1, 1) - batch_y.reshape(-1, 1)\n",
    "                grad_sum = np.sum(error * batch_X, axis=0)\n",
    "                grad_mul = 1 / batch_size * grad_sum\n",
    "                gradient = np.transpose(grad_mul).reshape(-1, 1)\n",
    "\n",
    "                W = W - (lr * gradient)\n",
    "\n",
    "            hist_cos[j] = self.loss(y_train, self.sigmoid(np.dot(X_train, W)))\n",
    "            #hist_cos[j] = self.bce(X_train, y_train, W)\n",
    "\n",
    "        return hist_cos, W\n",
    "\n",
    "\n",
    "class BaseMetric:\n",
    "    def __init__(self, **kwargs):\n",
    "        self.parameters = kwargs\n",
    "\n",
    "    def __call__(self, *args, **kwargs):\n",
    "        pass\n",
    "\n",
    "\n",
    "class Metric(object):\n",
    "    def __call__(self, target, prediction):\n",
    "        return NotImplemented\n",
    "\n",
    "\n",
    "class MSE(Metric):\n",
    "    def __init__(self):\n",
    "        Metric.__init__(self)\n",
    "\n",
    "    def __call__(self, target, prediction):\n",
    "        n = target.size\n",
    "        return np.sum((target - prediction) ** 2) / n\n",
    "\n",
    "\n",
    "class Accuracy(Metric):\n",
    "    def __call__(self, target, prediction):\n",
    "        return np.mean(target == prediction, axis=0)\n",
    "\n",
    "\n",
    "class Precision(Metric):\n",
    "    def __call__(self, target, prediction):\n",
    "        inverse_truth = np.where(target == 0, 1, 0)\n",
    "        inverse_predictions = np.where(prediction == 0, 1, 0)\n",
    "        TP = np.sum(prediction * target)\n",
    "        TN = np.sum(inverse_predictions * inverse_truth)\n",
    "        FN = np.sum(target * inverse_predictions)\n",
    "        FP = np.sum(prediction * inverse_truth)\n",
    "        return TP / (TP + FP)\n",
    "\n",
    "\n",
    "class Recall(Metric):\n",
    "    def __call__(self, target, prediction):\n",
    "        inverse_truth = np.where(target == 0, 1, 0)\n",
    "        inverse_predictions = np.where(prediction == 0, 1, 0)\n",
    "        TP = np.sum(prediction * target)\n",
    "        TN = np.sum(inverse_predictions * inverse_truth)\n",
    "        FN = np.sum(target * inverse_predictions)\n",
    "        FP = np.sum(prediction * inverse_truth)\n",
    "        return TP / (TP + FN)"
   ],
   "metadata": {
    "collapsed": false,
    "pycharm": {
     "name": "#%%\n"
    }
   }
  },
  {
   "cell_type": "markdown",
   "source": [
    "* Usamos StratifiedKFold para mantener la misma distribucion de etiquetas durante e k-fold cv"
   ],
   "metadata": {
    "collapsed": false
   }
  },
  {
   "cell_type": "code",
   "execution_count": null,
   "outputs": [],
   "source": [
    "# Proporcion de las clases en K-Fold\n",
    "skf = StratifiedKFold(n_splits=5)\n",
    "\n",
    "# revisamos si mantenemos las etiquetas tanto en train y validation\n",
    "for train_index, test_index in skf.split(X_train_s1.values, y_train.values):\n",
    "    print(y_train.iloc[train_index, :].value_counts().to_numpy()/len(train_index))\n",
    "    print(y_train.iloc[test_index, :].value_counts().to_numpy()/len(test_index))"
   ],
   "metadata": {
    "collapsed": false,
    "pycharm": {
     "name": "#%%\n"
    }
   }
  },
  {
   "cell_type": "code",
   "execution_count": null,
   "outputs": [],
   "source": [
    "# K-folds, metrica F1-score\n",
    "def k_folds(X, y, lr, b, epochs):\n",
    "    f1score_list = []\n",
    "    log_reg = LogisticRegressionNumpy()\n",
    "    for train_index, test_index in skf.split(X, y):\n",
    "        #scale\n",
    "        X_train_scaled = scaler.transform(X[train_index])\n",
    "        X_val_scaled = scaler.transform(X[test_index])\n",
    "\n",
    "        #fit\n",
    "        log_reg.fit(X=X_train_scaled, y=y[train_index], lr=lr, epochs=epochs, b=b, gradient='MINI')\n",
    "\n",
    "        # metric\n",
    "        y_val_predict = log_reg.predict(X_val_scaled)\n",
    "        metrics_list = [Accuracy(), Precision(), Recall()]\n",
    "        metrics = [metric(y[test_index].ravel(), y_val_predict.ravel()) for metric in metrics_list]\n",
    "        F1 = 2 * (metrics[1] * metrics[2]) / (metrics[1] + metrics[2])\n",
    "        f1score_list.append(F1)\n",
    "    return np.mean(f1score_list)"
   ],
   "metadata": {
    "collapsed": false,
    "pycharm": {
     "name": "#%%\n"
    }
   }
  },
  {
   "cell_type": "markdown",
   "source": [
    "## CASO 1:\n",
    "pre_processing_1 + feature_selection_1"
   ],
   "metadata": {
    "collapsed": false
   }
  },
  {
   "cell_type": "markdown",
   "source": [
    "### Logistic Regression"
   ],
   "metadata": {
    "collapsed": false
   }
  },
  {
   "cell_type": "code",
   "execution_count": null,
   "outputs": [],
   "source": [
    "X_train = X_train_df[feature_selection_1]\n",
    "# scaler\n",
    "scaler = StandardScaler()\n",
    "X_train_scaled = scaler.fit_transform(X_train.values)"
   ],
   "metadata": {
    "collapsed": false,
    "pycharm": {
     "name": "#%%\n"
    }
   }
  },
  {
   "cell_type": "markdown",
   "source": [
    "* pre-processing Test data, se usa después"
   ],
   "metadata": {
    "collapsed": false
   }
  },
  {
   "cell_type": "code",
   "execution_count": null,
   "outputs": [],
   "source": [
    "XY_test = pre_processing_1(pd.concat([X_test, y_test], axis=1))\n",
    "\n",
    "X_test_p1 = XY_test[feature_selection_1]\n",
    "y_test_p1 = XY_test[['RainTomorrow_enc']]"
   ],
   "metadata": {
    "collapsed": false,
    "pycharm": {
     "name": "#%%\n"
    }
   }
  },
  {
   "cell_type": "markdown",
   "source": [
    "### ParameterGrid search"
   ],
   "metadata": {
    "collapsed": false
   }
  },
  {
   "cell_type": "code",
   "execution_count": null,
   "outputs": [],
   "source": [
    "# seleccion de hiperparametros con clases propias\n",
    "param_grid = {'lr': [0.01, 0.05], 'epochs': [100], 'batch_size': [32, 64]}\n",
    "grid = ParameterGrid(param_grid)\n",
    "\n",
    "kfolds_list = np.zeros(len(list(grid)))\n",
    "for i, params in enumerate(grid):\n",
    "    kfolds_list[i] = k_folds(X_train.values, y_train.values, params['lr'], params['batch_size'], params['epochs'])\n",
    "\n",
    "best_params = grid[np.argmax(kfolds_list)]\n",
    "best_params"
   ],
   "metadata": {
    "collapsed": false,
    "pycharm": {
     "name": "#%%\n"
    }
   }
  },
  {
   "cell_type": "code",
   "execution_count": 1016,
   "outputs": [
    {
     "name": "stdout",
     "output_type": "stream",
     "text": [
      "Best hyperparameters:  {'lr': 0.05, 'epochs': 100, 'batch_size': 32}\n"
     ]
    }
   ],
   "source": [
    "# best parameter\n",
    "print(\"Best hyperparameters: \", {'lr': 0.05, 'epochs': 100, 'batch_size': 32})"
   ],
   "metadata": {
    "collapsed": false,
    "pycharm": {
     "name": "#%%\n"
    }
   }
  },
  {
   "cell_type": "markdown",
   "source": [
    "### Desempeño con validación"
   ],
   "metadata": {
    "collapsed": false
   }
  },
  {
   "cell_type": "code",
   "execution_count": null,
   "outputs": [],
   "source": [
    "# test con porción de validación\n",
    "log_reg = LogisticRegressionNumpy()\n",
    "X_train_1, X_val_1, y_train_1, y_val_1 = train_test_split(X_train.values, y_train.values, test_size=0.2)\n",
    "X_train_scaled = scaler.transform(X_train_1)\n",
    "X_val_scaled = scaler.transform(X_val_1)\n",
    "\n",
    "h, w = log_reg.fit(X=X_train_scaled, y=y_train_1.reshape(-1, 1), lr=0.05, epochs=100, b=32, gradient='MINI')\n",
    "y_val_predict = log_reg.predict(X_val_scaled)\n",
    "\n",
    "metrics_list = [Accuracy(), Precision(), Recall()]\n",
    "metrics = [metric(y_val_1.ravel(), y_val_predict.ravel()) for metric in metrics_list]\n",
    "F1 = 2 * (metrics[1] * metrics[2]) / (metrics[1] + metrics[2])\n",
    "print('Accuracy: {}'.format(metrics[0]))\n",
    "print('Precision: {}'.format(metrics[1]))\n",
    "print('Recall: {}'.format(metrics[2]))\n",
    "print('F1-score: {}'.format(F1))\n"
   ],
   "metadata": {
    "collapsed": false,
    "pycharm": {
     "name": "#%%\n"
    }
   }
  },
  {
   "cell_type": "markdown",
   "source": [
    "### Desempeño con test"
   ],
   "metadata": {
    "collapsed": false
   }
  },
  {
   "cell_type": "code",
   "execution_count": null,
   "outputs": [],
   "source": [
    "log_reg = LogisticRegressionNumpy()\n",
    "X_train_scaled = scaler.transform(X_train.values)\n",
    "X_test_scaled = scaler.transform(X_test_p1.values)\n",
    "\n",
    "# train\n",
    "h, w = log_reg.fit(X=X_train_scaled, y=y_train.values.reshape(-1, 1), lr=0.05, epochs=100, b=32, gradient='MINI')\n",
    "\n",
    "# test\n",
    "y_test_predict = log_reg.predict(X_test_scaled)\n",
    "\n",
    "metrics_list = [Accuracy(), Precision(), Recall()]\n",
    "metrics = [metric(y_test_p1.values.ravel(), y_test_predict.ravel()) for metric in metrics_list]\n",
    "F1 = 2 * (metrics[1] * metrics[2]) / (metrics[1] + metrics[2])\n",
    "print('Accuracy: {}'.format(metrics[0]))\n",
    "print('Precision: {}'.format(metrics[1]))\n",
    "print('Recall: {}'.format(metrics[2]))\n",
    "print('F1-score: {}'.format(F1))"
   ],
   "metadata": {
    "collapsed": false,
    "pycharm": {
     "name": "#%%\n"
    }
   }
  },
  {
   "cell_type": "code",
   "execution_count": null,
   "outputs": [],
   "source": [
    "fig, axes = plt.subplots(1,1, figsize=(15,6))\n",
    "axes.plot(range(len(h)), h, 'r')\n",
    "axes.set_xlabel('iteration(epoch)')\n",
    "axes.set_ylabel('J')\n",
    "axes.set_title('Funcion de Costo')"
   ],
   "metadata": {
    "collapsed": false,
    "pycharm": {
     "name": "#%%\n"
    }
   }
  },
  {
   "cell_type": "markdown",
   "source": [
    "### Logistic Regression con sklearn"
   ],
   "metadata": {
    "collapsed": false
   }
  },
  {
   "cell_type": "code",
   "execution_count": null,
   "outputs": [],
   "source": [
    "# encontrar los mejores hiper parametros\n",
    "grid={\"C\":[0.01,0.1,1, 10], \"penalty\":[\"l2\"], 'solver':['liblinear', 'sag', 'saga']}# l1 lasso l2 ridge\n",
    "logreg = LogisticRegression()\n",
    "logreg_cv = GridSearchCV(logreg, grid, cv=5, scoring='f1')\n",
    "\n",
    "X_train_scaled = scaler.transform(X_train.values)\n",
    "\n",
    "logreg_cv.fit(X_train_scaled, y_train.values.ravel())\n",
    "\n",
    "print('Best F1-Score {} with hyper-parameters {}'.format(logreg_cv.best_score_, logreg_cv.best_params_))\n"
   ],
   "metadata": {
    "collapsed": false,
    "pycharm": {
     "name": "#%%\n"
    }
   }
  },
  {
   "cell_type": "markdown",
   "source": [
    "### Desempeño con validación"
   ],
   "metadata": {
    "collapsed": false
   }
  },
  {
   "cell_type": "code",
   "execution_count": null,
   "outputs": [],
   "source": [
    "# test con porcion de validacion\n",
    "\n",
    "X_train_1, X_val_1, y_train_1, y_val_1 = train_test_split(X_train.values, y_train.values, test_size=0.2)\n",
    "X_train_scaled = scaler.transform(X_train_1)\n",
    "X_val_scaled = scaler.transform(X_val_1)\n",
    "\n",
    "clf = LogisticRegression(C=1, penalty='l2', fit_intercept=True, solver='liblinear', max_iter=100)\n",
    "clf.fit(X_train_scaled, y_train_1.ravel())\n",
    "\n",
    "y_val_predict = clf.predict(X_val_scaled)\n",
    "\n",
    "metrics_list = [Accuracy(), Precision(), Recall()]\n",
    "metrics = [metric(y_val_1.ravel(), y_val_predict.ravel()) for metric in metrics_list]\n",
    "F1 = 2 * (metrics[1] * metrics[2]) / (metrics[1] + metrics[2])\n",
    "print('Accuracy: {}'.format(metrics[0]))\n",
    "print('Precision: {}'.format(metrics[1]))\n",
    "print('Recall: {}'.format(metrics[2]))\n",
    "print('F1-score: {}'.format(F1))"
   ],
   "metadata": {
    "collapsed": false,
    "pycharm": {
     "name": "#%%\n"
    }
   }
  },
  {
   "cell_type": "markdown",
   "source": [
    "### Desempeño con test"
   ],
   "metadata": {
    "collapsed": false
   }
  },
  {
   "cell_type": "code",
   "execution_count": null,
   "outputs": [],
   "source": [
    "X_train_scaled = scaler.transform(X_train.values)\n",
    "X_test_scaled = scaler.transform(X_test_p1.values)\n",
    "\n",
    "clf = LogisticRegression(C=1, penalty='l2', fit_intercept=True, solver='liblinear', max_iter=100)\n",
    "clf.fit(X_train_scaled, y_train.values.ravel())\n",
    "\n",
    "y_test_predict = clf.predict(X_test_scaled)\n",
    "\n",
    "\n",
    "metrics_list = [Accuracy(), Precision(), Recall()]\n",
    "metrics = [metric(y_test_p1.values.ravel(), y_test_predict.ravel()) for metric in metrics_list]\n",
    "F1 = 2 * (metrics[1] * metrics[2]) / (metrics[1] + metrics[2])\n",
    "print('Accuracy: {}'.format(metrics[0]))\n",
    "print('Precision: {}'.format(metrics[1]))\n",
    "print('Recall: {}'.format(metrics[2]))\n",
    "print('F1-score: {}'.format(F1))"
   ],
   "metadata": {
    "collapsed": false,
    "pycharm": {
     "name": "#%%\n"
    }
   }
  },
  {
   "cell_type": "code",
   "execution_count": 1017,
   "outputs": [
    {
     "data": {
      "text/plain": "[0.5607476635514018, 0.5559686080132177]"
     },
     "execution_count": 1017,
     "metadata": {},
     "output_type": "execute_result"
    }
   ],
   "source": [
    "# result F1-score  validation, test\n",
    "lreg_result_c1 = [0.5607476635514018, 0.5559686080132177]\n",
    "lreg_result_c1"
   ],
   "metadata": {
    "collapsed": false,
    "pycharm": {
     "name": "#%%\n"
    }
   }
  },
  {
   "cell_type": "markdown",
   "source": [
    "### SVM Classifier"
   ],
   "metadata": {
    "collapsed": false
   }
  },
  {
   "cell_type": "markdown",
   "source": [
    "### Desempeño con validación"
   ],
   "metadata": {
    "collapsed": false
   }
  },
  {
   "cell_type": "code",
   "execution_count": null,
   "outputs": [],
   "source": [
    "X_train_1, X_val_1, y_train_1, y_val_1 = train_test_split(X_train.values, y_train.values, test_size=0.2)\n",
    "X_train_scaled = scaler.transform(X_train_1)\n",
    "X_val_scaled = scaler.transform(X_val_1)\n",
    "\n",
    "svm = SVC(C=0.1, kernel='linear')\n",
    "svm.fit(X_train_scaled, y_train_1.ravel())\n",
    "\n",
    "y_val_predict = svm.predict(X_val_scaled)\n",
    "print('f1-score: ', f1_score(y_val_1.ravel(), y_val_predict.ravel(), average='binary'))"
   ],
   "metadata": {
    "collapsed": false,
    "pycharm": {
     "name": "#%%\n"
    }
   }
  },
  {
   "cell_type": "markdown",
   "source": [
    "### Desempeño con test"
   ],
   "metadata": {
    "collapsed": false
   }
  },
  {
   "cell_type": "code",
   "execution_count": null,
   "outputs": [],
   "source": [
    "X_test_scaled = scaler.transform(X_test_p1.values)\n",
    "y_test_predict = svm.predict(X_test_scaled)\n",
    "print('f1-score: ', f1_score(y_test_p1.values.ravel(), y_test_predict.ravel(), average='binary'))"
   ],
   "metadata": {
    "collapsed": false,
    "pycharm": {
     "name": "#%%\n"
    }
   }
  },
  {
   "cell_type": "code",
   "execution_count": 1018,
   "outputs": [
    {
     "data": {
      "text/plain": "[0.5343327533128096, 0.5328451432263622]"
     },
     "execution_count": 1018,
     "metadata": {},
     "output_type": "execute_result"
    }
   ],
   "source": [
    "# result F1-score  validation, test\n",
    "svm_result_c1 = [0.5343327533128096, 0.5328451432263622]\n",
    "svm_result_c1"
   ],
   "metadata": {
    "collapsed": false,
    "pycharm": {
     "name": "#%%\n"
    }
   }
  },
  {
   "cell_type": "markdown",
   "source": [
    "### RandomForest Classifier"
   ],
   "metadata": {
    "collapsed": false
   }
  },
  {
   "cell_type": "markdown",
   "source": [
    "### Desempeño con validación"
   ],
   "metadata": {
    "collapsed": false
   }
  },
  {
   "cell_type": "code",
   "execution_count": null,
   "outputs": [],
   "source": [
    "X_train_1, X_val_1, y_train_1, y_val_1 = train_test_split(X_train.values, y_train.values, test_size=0.2)\n",
    "X_train_scaled = scaler.transform(X_train_1)\n",
    "X_val_scaled = scaler.transform(X_val_1)\n",
    "\n",
    "forest = RandomForestClassifier(max_depth=None, n_estimators=300, max_features=None, oob_score=True)\n",
    "forest.fit(X_train_scaled, y_train_1.ravel())\n",
    "\n",
    "y_val_predict = forest.predict(X_val_scaled)\n",
    "print('f1-score: ', f1_score(y_val_1.ravel(), y_val_predict.ravel(), average='binary'))"
   ],
   "metadata": {
    "collapsed": false,
    "pycharm": {
     "name": "#%%\n"
    }
   }
  },
  {
   "cell_type": "markdown",
   "source": [
    "### Desempeño con test"
   ],
   "metadata": {
    "collapsed": false
   }
  },
  {
   "cell_type": "code",
   "execution_count": null,
   "outputs": [],
   "source": [
    "X_test_scaled = scaler.transform(X_test_p1.values)\n",
    "y_test_predict = forest.predict(X_test_scaled)\n",
    "print('f1-score: ', f1_score(y_test_p1.values.ravel(), y_test_predict.ravel(), average='binary'))"
   ],
   "metadata": {
    "collapsed": false,
    "pycharm": {
     "name": "#%%\n"
    }
   }
  },
  {
   "cell_type": "code",
   "execution_count": 1019,
   "outputs": [
    {
     "data": {
      "text/plain": "[0.5969323610761881, 0.6001195457262403]"
     },
     "execution_count": 1019,
     "metadata": {},
     "output_type": "execute_result"
    }
   ],
   "source": [
    "forest_result_c1 = [0.5969323610761881, 0.6001195457262403]\n",
    "forest_result_c1"
   ],
   "metadata": {
    "collapsed": false,
    "pycharm": {
     "name": "#%%\n"
    }
   }
  },
  {
   "cell_type": "markdown",
   "source": [
    "## CASO 2:\n",
    "pre_processing_2 + feature_selection_2"
   ],
   "metadata": {
    "collapsed": false
   }
  },
  {
   "cell_type": "markdown",
   "source": [
    "### Logistic Regression"
   ],
   "metadata": {
    "collapsed": false,
    "pycharm": {
     "name": "#%% md\n"
    }
   }
  },
  {
   "cell_type": "code",
   "execution_count": 1033,
   "outputs": [],
   "source": [
    "X_train = X_train_df[feature_selection_2]\n",
    "# scaler\n",
    "scaler = StandardScaler()\n",
    "X_train_scaled = scaler.fit_transform(X_train.values)"
   ],
   "metadata": {
    "collapsed": false,
    "pycharm": {
     "name": "#%%\n"
    }
   }
  },
  {
   "cell_type": "markdown",
   "source": [
    "* pre-processing Test data, se usa después"
   ],
   "metadata": {
    "collapsed": false
   }
  },
  {
   "cell_type": "code",
   "execution_count": 1034,
   "outputs": [],
   "source": [
    "XY_test = pre_processing_2(pd.concat([X_test, y_test], axis=1))\n",
    "\n",
    "X_test_p1 = XY_test[feature_selection_2]\n",
    "y_test_p1 = XY_test[['RainTomorrow_enc']]"
   ],
   "metadata": {
    "collapsed": false,
    "pycharm": {
     "name": "#%%\n"
    }
   }
  },
  {
   "cell_type": "markdown",
   "source": [
    "### ParameterGrid search"
   ],
   "metadata": {
    "collapsed": false
   }
  },
  {
   "cell_type": "code",
   "execution_count": 1036,
   "outputs": [
    {
     "name": "stderr",
     "output_type": "stream",
     "text": [
      "C:\\Users\\Freddy\\AppData\\Local\\Temp/ipykernel_22532/2550792353.py:37: RuntimeWarning: divide by zero encountered in log\n",
      "  loss = np.mean(-y*(np.log(y_hat)) - (1-y)*np.log(1-y_hat))\n",
      "C:\\Users\\Freddy\\AppData\\Local\\Temp/ipykernel_22532/2550792353.py:37: RuntimeWarning: invalid value encountered in multiply\n",
      "  loss = np.mean(-y*(np.log(y_hat)) - (1-y)*np.log(1-y_hat))\n",
      "C:\\Users\\Freddy\\AppData\\Local\\Temp/ipykernel_22532/2550792353.py:37: RuntimeWarning: divide by zero encountered in log\n",
      "  loss = np.mean(-y*(np.log(y_hat)) - (1-y)*np.log(1-y_hat))\n",
      "C:\\Users\\Freddy\\AppData\\Local\\Temp/ipykernel_22532/2550792353.py:37: RuntimeWarning: invalid value encountered in multiply\n",
      "  loss = np.mean(-y*(np.log(y_hat)) - (1-y)*np.log(1-y_hat))\n",
      "C:\\Users\\Freddy\\AppData\\Local\\Temp/ipykernel_22532/2550792353.py:37: RuntimeWarning: divide by zero encountered in log\n",
      "  loss = np.mean(-y*(np.log(y_hat)) - (1-y)*np.log(1-y_hat))\n",
      "C:\\Users\\Freddy\\AppData\\Local\\Temp/ipykernel_22532/2550792353.py:37: RuntimeWarning: invalid value encountered in multiply\n",
      "  loss = np.mean(-y*(np.log(y_hat)) - (1-y)*np.log(1-y_hat))\n",
      "C:\\Users\\Freddy\\AppData\\Local\\Temp/ipykernel_22532/2550792353.py:37: RuntimeWarning: divide by zero encountered in log\n",
      "  loss = np.mean(-y*(np.log(y_hat)) - (1-y)*np.log(1-y_hat))\n",
      "C:\\Users\\Freddy\\AppData\\Local\\Temp/ipykernel_22532/2550792353.py:37: RuntimeWarning: invalid value encountered in multiply\n",
      "  loss = np.mean(-y*(np.log(y_hat)) - (1-y)*np.log(1-y_hat))\n"
     ]
    },
    {
     "data": {
      "text/plain": "{'lr': 0.05, 'epochs': 100, 'batch_size': 64}"
     },
     "execution_count": 1036,
     "metadata": {},
     "output_type": "execute_result"
    }
   ],
   "source": [
    "# seleccion de hiperparametros con clases propias\n",
    "param_grid = {'lr': [0.01, 0.05], 'epochs': [100], 'batch_size': [32, 64]}\n",
    "grid = ParameterGrid(param_grid)\n",
    "\n",
    "kfolds_list = np.zeros(len(list(grid)))\n",
    "for i, params in enumerate(grid):\n",
    "    kfolds_list[i] = k_folds(X_train.values, y_train.values, params['lr'], params['batch_size'], params['epochs'])\n",
    "\n",
    "best_params = grid[np.argmax(kfolds_list)]\n",
    "best_params"
   ],
   "metadata": {
    "collapsed": false,
    "pycharm": {
     "name": "#%%\n"
    }
   }
  },
  {
   "cell_type": "code",
   "execution_count": 1021,
   "outputs": [
    {
     "name": "stdout",
     "output_type": "stream",
     "text": [
      "Best hyperparameters:  {'lr': 0.05, 'epochs': 100, 'batch_size': 32}\n"
     ]
    }
   ],
   "source": [
    "# best parameter\n",
    "print(\"Best hyperparameters: \", {'lr': 0.05, 'epochs': 100, 'batch_size': 32})"
   ],
   "metadata": {
    "collapsed": false,
    "pycharm": {
     "name": "#%%\n"
    }
   }
  },
  {
   "cell_type": "markdown",
   "source": [
    "### Desempeño con validación"
   ],
   "metadata": {
    "collapsed": false
   }
  },
  {
   "cell_type": "code",
   "execution_count": 1038,
   "outputs": [
    {
     "name": "stdout",
     "output_type": "stream",
     "text": [
      "Accuracy: 0.8385898090947095\n",
      "Precision: 0.7055256064690026\n",
      "Recall: 0.4460063897763578\n",
      "F1-score: 0.5465222497716298\n"
     ]
    }
   ],
   "source": [
    "# test con porción de validación\n",
    "log_reg = LogisticRegressionNumpy()\n",
    "X_train_1, X_val_1, y_train_1, y_val_1 = train_test_split(X_train.values, y_train.values, test_size=0.2)\n",
    "X_train_scaled = scaler.transform(X_train_1)\n",
    "X_val_scaled = scaler.transform(X_val_1)\n",
    "\n",
    "h, w = log_reg.fit(X=X_train_scaled, y=y_train_1.reshape(-1, 1), lr=0.05, epochs=100, b=32, gradient='MINI')\n",
    "y_val_predict = log_reg.predict(X_val_scaled)\n",
    "\n",
    "metrics_list = [Accuracy(), Precision(), Recall()]\n",
    "metrics = [metric(y_val_1.ravel(), y_val_predict.ravel()) for metric in metrics_list]\n",
    "F1 = 2 * (metrics[1] * metrics[2]) / (metrics[1] + metrics[2])\n",
    "print('Accuracy: {}'.format(metrics[0]))\n",
    "print('Precision: {}'.format(metrics[1]))\n",
    "print('Recall: {}'.format(metrics[2]))\n",
    "print('F1-score: {}'.format(F1))\n"
   ],
   "metadata": {
    "collapsed": false,
    "pycharm": {
     "name": "#%%\n"
    }
   }
  },
  {
   "cell_type": "markdown",
   "source": [
    "### Desempeño con test"
   ],
   "metadata": {
    "collapsed": false
   }
  },
  {
   "cell_type": "code",
   "execution_count": 1039,
   "outputs": [
    {
     "name": "stderr",
     "output_type": "stream",
     "text": [
      "C:\\Users\\Freddy\\AppData\\Local\\Temp/ipykernel_22532/2550792353.py:37: RuntimeWarning: divide by zero encountered in log\n",
      "  loss = np.mean(-y*(np.log(y_hat)) - (1-y)*np.log(1-y_hat))\n",
      "C:\\Users\\Freddy\\AppData\\Local\\Temp/ipykernel_22532/2550792353.py:37: RuntimeWarning: invalid value encountered in multiply\n",
      "  loss = np.mean(-y*(np.log(y_hat)) - (1-y)*np.log(1-y_hat))\n"
     ]
    },
    {
     "name": "stdout",
     "output_type": "stream",
     "text": [
      "Accuracy: 0.8409470441978699\n",
      "Precision: 0.7142098273572377\n",
      "Recall: 0.45583997287675876\n",
      "F1-score: 0.5564983443708609\n"
     ]
    }
   ],
   "source": [
    "log_reg = LogisticRegressionNumpy()\n",
    "X_train_scaled = scaler.transform(X_train.values)\n",
    "X_test_scaled = scaler.transform(X_test_p1.values)\n",
    "\n",
    "# train\n",
    "h, w = log_reg.fit(X=X_train_scaled, y=y_train.values.reshape(-1, 1), lr=0.05, epochs=100, b=32, gradient='MINI')\n",
    "\n",
    "# test\n",
    "y_test_predict = log_reg.predict(X_test_scaled)\n",
    "\n",
    "metrics_list = [Accuracy(), Precision(), Recall()]\n",
    "metrics = [metric(y_test_p1.values.ravel(), y_test_predict.ravel()) for metric in metrics_list]\n",
    "F1 = 2 * (metrics[1] * metrics[2]) / (metrics[1] + metrics[2])\n",
    "print('Accuracy: {}'.format(metrics[0]))\n",
    "print('Precision: {}'.format(metrics[1]))\n",
    "print('Recall: {}'.format(metrics[2]))\n",
    "print('F1-score: {}'.format(F1))"
   ],
   "metadata": {
    "collapsed": false,
    "pycharm": {
     "name": "#%%\n"
    }
   }
  },
  {
   "cell_type": "code",
   "execution_count": 1040,
   "outputs": [
    {
     "data": {
      "text/plain": "Text(0.5, 1.0, 'Funcion de Costo')"
     },
     "execution_count": 1040,
     "metadata": {},
     "output_type": "execute_result"
    },
    {
     "data": {
      "text/plain": "<Figure size 1080x432 with 1 Axes>",
      "image/png": "[encoded data removed]"
     },
     "metadata": {
      "needs_background": "light"
     },
     "output_type": "display_data"
    }
   ],
   "source": [
    "fig, axes = plt.subplots(1,1, figsize=(15,6))\n",
    "axes.plot(range(len(h)), h, 'r')\n",
    "axes.set_xlabel('iteration(epoch)')\n",
    "axes.set_ylabel('J')\n",
    "axes.set_title('Funcion de Costo')"
   ],
   "metadata": {
    "collapsed": false,
    "pycharm": {
     "name": "#%%\n"
    }
   }
  },
  {
   "cell_type": "markdown",
   "source": [
    "### Logistic Regression con sklearn"
   ],
   "metadata": {
    "collapsed": false
   }
  },
  {
   "cell_type": "code",
   "execution_count": 1041,
   "outputs": [
    {
     "name": "stdout",
     "output_type": "stream",
     "text": [
      "Best F1-Score 0.5543095850533241 with hyper-parameters {'C': 1, 'penalty': 'l2', 'solver': 'liblinear'}\n"
     ]
    }
   ],
   "source": [
    "# encontrar los mejores hiper parametros\n",
    "grid={\"C\":[0.01,0.1,1, 10], \"penalty\":[\"l2\"], 'solver':['liblinear', 'sag', 'saga']}# l1 lasso l2 ridge\n",
    "logreg = LogisticRegression()\n",
    "logreg_cv = GridSearchCV(logreg, grid, cv=5, scoring='f1')\n",
    "\n",
    "X_train_scaled = scaler.transform(X_train.values)\n",
    "\n",
    "logreg_cv.fit(X_train_scaled, y_train.values.ravel())\n",
    "\n",
    "print('Best F1-Score {} with hyper-parameters {}'.format(logreg_cv.best_score_, logreg_cv.best_params_))\n"
   ],
   "metadata": {
    "collapsed": false,
    "pycharm": {
     "name": "#%%\n"
    }
   }
  },
  {
   "cell_type": "markdown",
   "source": [
    "### Desempeño con validación"
   ],
   "metadata": {
    "collapsed": false
   }
  },
  {
   "cell_type": "code",
   "execution_count": 1042,
   "outputs": [
    {
     "name": "stdout",
     "output_type": "stream",
     "text": [
      "Accuracy: 0.8407264619815134\n",
      "Precision: 0.7118473895582329\n",
      "Recall: 0.45303514376996806\n",
      "F1-score: 0.5536899648574776\n"
     ]
    }
   ],
   "source": [
    "# test con porcion de validacion\n",
    "\n",
    "X_train_1, X_val_1, y_train_1, y_val_1 = train_test_split(X_train.values, y_train.values, test_size=0.2)\n",
    "X_train_scaled = scaler.transform(X_train_1)\n",
    "X_val_scaled = scaler.transform(X_val_1)\n",
    "\n",
    "clf = LogisticRegression(C=1, penalty='l2', fit_intercept=True, solver='liblinear')\n",
    "clf.fit(X_train_scaled, y_train_1.ravel())\n",
    "\n",
    "y_val_predict = clf.predict(X_val_scaled)\n",
    "\n",
    "metrics_list = [Accuracy(), Precision(), Recall()]\n",
    "metrics = [metric(y_val_1.ravel(), y_val_predict.ravel()) for metric in metrics_list]\n",
    "F1 = 2 * (metrics[1] * metrics[2]) / (metrics[1] + metrics[2])\n",
    "print('Accuracy: {}'.format(metrics[0]))\n",
    "print('Precision: {}'.format(metrics[1]))\n",
    "print('Recall: {}'.format(metrics[2]))\n",
    "print('F1-score: {}'.format(F1))"
   ],
   "metadata": {
    "collapsed": false,
    "pycharm": {
     "name": "#%%\n"
    }
   }
  },
  {
   "cell_type": "markdown",
   "source": [
    "### Desempeño con test"
   ],
   "metadata": {
    "collapsed": false
   }
  },
  {
   "cell_type": "code",
   "execution_count": 1043,
   "outputs": [
    {
     "name": "stdout",
     "output_type": "stream",
     "text": [
      "Accuracy: 0.8409470441978699\n",
      "Precision: 0.7142098273572377\n",
      "Recall: 0.45583997287675876\n",
      "F1-score: 0.5564983443708609\n"
     ]
    }
   ],
   "source": [
    "X_train_scaled = scaler.transform(X_train.values)\n",
    "X_test_scaled = scaler.transform(X_test_p1.values)\n",
    "\n",
    "clf = LogisticRegression(C=0.1, penalty='l2', fit_intercept=True, solver='liblinear')\n",
    "clf.fit(X_train_scaled, y_train.values.ravel())\n",
    "\n",
    "y_test_predict = clf.predict(X_test_scaled)\n",
    "\n",
    "\n",
    "metrics_list = [Accuracy(), Precision(), Recall()]\n",
    "metrics = [metric(y_test_p1.values.ravel(), y_test_predict.ravel()) for metric in metrics_list]\n",
    "F1 = 2 * (metrics[1] * metrics[2]) / (metrics[1] + metrics[2])\n",
    "print('Accuracy: {}'.format(metrics[0]))\n",
    "print('Precision: {}'.format(metrics[1]))\n",
    "print('Recall: {}'.format(metrics[2]))\n",
    "print('F1-score: {}'.format(F1))"
   ],
   "metadata": {
    "collapsed": false,
    "pycharm": {
     "name": "#%%\n"
    }
   }
  },
  {
   "cell_type": "code",
   "execution_count": 1044,
   "outputs": [
    {
     "data": {
      "text/plain": "[0.5536899648574776, 0.5564983443708609]"
     },
     "execution_count": 1044,
     "metadata": {},
     "output_type": "execute_result"
    }
   ],
   "source": [
    "# result F1-score  validation, test\n",
    "lreg_result_c2 = [0.5536899648574776, 0.5564983443708609]\n",
    "lreg_result_c2"
   ],
   "metadata": {
    "collapsed": false,
    "pycharm": {
     "name": "#%%\n"
    }
   }
  },
  {
   "cell_type": "markdown",
   "source": [
    "### SVM Classifier"
   ],
   "metadata": {
    "collapsed": false
   }
  },
  {
   "cell_type": "markdown",
   "source": [
    "### Desempeño con validación"
   ],
   "metadata": {
    "collapsed": false
   }
  },
  {
   "cell_type": "code",
   "execution_count": 1045,
   "outputs": [
    {
     "name": "stdout",
     "output_type": "stream",
     "text": [
      "f1-score:  0.5342502696871628\n"
     ]
    }
   ],
   "source": [
    "X_train_1, X_val_1, y_train_1, y_val_1 = train_test_split(X_train.values, y_train.values, test_size=0.2)\n",
    "X_train_scaled = scaler.transform(X_train_1)\n",
    "X_val_scaled = scaler.transform(X_val_1)\n",
    "\n",
    "svm = SVC(C=0.1, kernel='linear')\n",
    "svm.fit(X_train_scaled, y_train_1.ravel())\n",
    "\n",
    "y_val_predict = svm.predict(X_val_scaled)\n",
    "print('f1-score: ', f1_score(y_val_1.ravel(), y_val_predict.ravel(), average='binary'))"
   ],
   "metadata": {
    "collapsed": false,
    "pycharm": {
     "name": "#%%\n"
    }
   }
  },
  {
   "cell_type": "markdown",
   "source": [
    "### Desempeño con test"
   ],
   "metadata": {
    "collapsed": false
   }
  },
  {
   "cell_type": "code",
   "execution_count": 1046,
   "outputs": [
    {
     "name": "stdout",
     "output_type": "stream",
     "text": [
      "f1-score:  0.5309272747037721\n"
     ]
    }
   ],
   "source": [
    "X_test_scaled = scaler.transform(X_test_p1.values)\n",
    "y_test_predict = svm.predict(X_test_scaled)\n",
    "print('f1-score: ', f1_score(y_test_p1.values.ravel(), y_test_predict.ravel(), average='binary'))"
   ],
   "metadata": {
    "collapsed": false,
    "pycharm": {
     "name": "#%%\n"
    }
   }
  },
  {
   "cell_type": "code",
   "execution_count": 1049,
   "outputs": [
    {
     "data": {
      "text/plain": "[0.5342502696871628, 0.5309272747037721]"
     },
     "execution_count": 1049,
     "metadata": {},
     "output_type": "execute_result"
    }
   ],
   "source": [
    "# result F1-score  validation, test\n",
    "svm_result_c2 = [0.5342502696871628, 0.5309272747037721]\n",
    "svm_result_c2"
   ],
   "metadata": {
    "collapsed": false,
    "pycharm": {
     "name": "#%%\n"
    }
   }
  },
  {
   "cell_type": "markdown",
   "source": [
    "### RandomForest Classifier"
   ],
   "metadata": {
    "collapsed": false
   }
  },
  {
   "cell_type": "markdown",
   "source": [
    "### Desempeño con validación"
   ],
   "metadata": {
    "collapsed": false
   }
  },
  {
   "cell_type": "code",
   "execution_count": 1047,
   "outputs": [
    {
     "name": "stdout",
     "output_type": "stream",
     "text": [
      "f1-score:  0.6115196078431371\n"
     ]
    }
   ],
   "source": [
    "X_train_1, X_val_1, y_train_1, y_val_1 = train_test_split(X_train.values, y_train.values, test_size=0.2)\n",
    "X_train_scaled = scaler.transform(X_train_1)\n",
    "X_val_scaled = scaler.transform(X_val_1)\n",
    "\n",
    "forest = RandomForestClassifier(max_depth=None, n_estimators=300, max_features=None, oob_score=True)\n",
    "forest.fit(X_train_scaled, y_train_1.ravel())\n",
    "\n",
    "y_val_predict = forest.predict(X_val_scaled)\n",
    "print('f1-score: ', f1_score(y_val_1.ravel(), y_val_predict.ravel(), average='binary'))"
   ],
   "metadata": {
    "collapsed": false,
    "pycharm": {
     "name": "#%%\n"
    }
   }
  },
  {
   "cell_type": "markdown",
   "source": [
    "### Desempeño con test"
   ],
   "metadata": {
    "collapsed": false
   }
  },
  {
   "cell_type": "code",
   "execution_count": 1048,
   "outputs": [
    {
     "name": "stdout",
     "output_type": "stream",
     "text": [
      "f1-score:  0.6011364769215432\n"
     ]
    }
   ],
   "source": [
    "X_test_scaled = scaler.transform(X_test_p1.values)\n",
    "y_test_predict = forest.predict(X_test_scaled)\n",
    "print('f1-score: ', f1_score(y_test_p1.values.ravel(), y_test_predict.ravel(), average='binary'))"
   ],
   "metadata": {
    "collapsed": false,
    "pycharm": {
     "name": "#%%\n"
    }
   }
  },
  {
   "cell_type": "code",
   "execution_count": 1050,
   "outputs": [
    {
     "data": {
      "text/plain": "[0.6115196078431371, 0.6011364769215432]"
     },
     "execution_count": 1050,
     "metadata": {},
     "output_type": "execute_result"
    }
   ],
   "source": [
    "forest_result_c2 = [0.6115196078431371, 0.6011364769215432]\n",
    "forest_result_c2"
   ],
   "metadata": {
    "collapsed": false,
    "pycharm": {
     "name": "#%%\n"
    }
   }
  },
  {
   "cell_type": "markdown",
   "source": [],
   "metadata": {
    "collapsed": false
   }
  },
  {
   "cell_type": "markdown",
   "source": [
    "### 5. Evaluación de resultados y conclusiones"
   ],
   "metadata": {
    "collapsed": false
   }
  },
  {
   "cell_type": "code",
   "execution_count": 1065,
   "outputs": [],
   "source": [
    "results = {'LogisticRegression': {}, 'SVM': {}, 'RandomForest': {}}\n",
    "results['LogisticRegression']['CASO_1'] = lreg_result_c1[1]\n",
    "results['LogisticRegression']['CASO_2'] = lreg_result_c2[1]\n",
    "results['SVM']['CASO_1'] = svm_result_c1[1]\n",
    "results['SVM']['CASO_2'] = svm_result_c2[1]\n",
    "results['RandomForest']['CASO_1'] = forest_result_c1[1]\n",
    "results['RandomForest']['CASO_2'] = forest_result_c2[1]"
   ],
   "metadata": {
    "collapsed": false,
    "pycharm": {
     "name": "#%%\n"
    }
   }
  },
  {
   "cell_type": "code",
   "execution_count": 1066,
   "outputs": [],
   "source": [
    "df_results = pd.DataFrame(results)"
   ],
   "metadata": {
    "collapsed": false,
    "pycharm": {
     "name": "#%%\n"
    }
   }
  },
  {
   "cell_type": "code",
   "execution_count": 1073,
   "outputs": [
    {
     "data": {
      "text/plain": "Text(0, 0.5, 'F1-score')"
     },
     "execution_count": 1073,
     "metadata": {},
     "output_type": "execute_result"
    },
    {
     "data": {
      "text/plain": "<Figure size 1584x432 with 1 Axes>",
      "image/png": "[encoded data removed]"
     },
     "metadata": {
      "needs_background": "light"
     },
     "output_type": "display_data"
    }
   ],
   "source": [
    "axes = df_results.T.plot.bar(title=\"Desempeño de modelos. caso 1 y caso 2\", figsize=(22,6))\n",
    "axes.grid('both')\n",
    "axes.set_ylabel('F1-score')"
   ],
   "metadata": {
    "collapsed": false,
    "pycharm": {
     "name": "#%%\n"
    }
   }
  },
  {
   "cell_type": "markdown",
   "source": [
    "* Se obtienen desempeños cercanos en los 3 modelos\n",
    "* El que posee el mejor desempeño fue RandomForest (F1-score=0.6011) con el caso 2\n",
    "Caso 2 utiliza como features:"
   ],
   "metadata": {
    "collapsed": false,
    "pycharm": {
     "name": "#%% md\n"
    }
   }
  },
  {
   "cell_type": "code",
   "execution_count": 1074,
   "outputs": [
    {
     "data": {
      "text/plain": "['Location_le',\n 'Date_month',\n 'WindGustDir_le',\n 'WindGustSpeed',\n 'Humidity3pm',\n 'Temp3pm',\n 'Pressure9am_median',\n 'Rainfall']"
     },
     "execution_count": 1074,
     "metadata": {},
     "output_type": "execute_result"
    }
   ],
   "source": [
    "['Location_le', 'Date_month', 'WindGustDir_le', 'WindGustSpeed', 'Humidity3pm', 'Temp3pm', 'Pressure9am_median', 'Rainfall']"
   ],
   "metadata": {
    "collapsed": false,
    "pycharm": {
     "name": "#%%\n"
    }
   }
  },
  {
   "cell_type": "markdown",
   "source": [
    "Junto con el procesamiento 2:"
   ],
   "metadata": {
    "collapsed": false,
    "pycharm": {
     "name": "#%% md\n"
    }
   }
  },
  {
   "cell_type": "code",
   "execution_count": 1075,
   "outputs": [],
   "source": [
    "# 'WindGustDir' imputación por moda\n",
    "# 'WindGustSpeed' imputación por mediana\n",
    "# 'Pressure9am' imputación por mediana\n",
    "\n",
    "# 'Date' year-month-day decomposition encoding\n",
    "# 'Location' label encoding\n",
    "# 'WindGustDir' label encoding"
   ],
   "metadata": {
    "collapsed": false,
    "pycharm": {
     "name": "#%%\n"
    }
   }
  },
  {
   "cell_type": "markdown",
   "source": [
    "* RandomForest obtiene el mejor desempeño trabajando con las variables categóricas codificadas con label encoding, esto tiene sentido porque los modelos basados en árboles pueden trabajar con variables categóricas sin la necesidad de codificarlas.\n"
   ],
   "metadata": {
    "collapsed": false,
    "pycharm": {
     "name": "#%% md\n"
    }
   }
  },
  {
   "cell_type": "markdown",
   "source": [
    "## Predecir el volúmen de precipitaciones (columna Rainfall del dia siguiente), en función al Rainfall del dia actual"
   ],
   "metadata": {
    "collapsed": false,
    "pycharm": {
     "name": "#%% md\n"
    }
   }
  },
  {
   "cell_type": "markdown",
   "source": [
    "### Obtener 'Rainfall_Tomorrow'"
   ],
   "metadata": {
    "collapsed": false,
    "pycharm": {
     "name": "#%% md\n"
    }
   }
  },
  {
   "cell_type": "code",
   "execution_count": 1083,
   "outputs": [],
   "source": [
    "w_df = weather_aus_df.set_index('Date')[['Rainfall', 'RainToday', 'RainTomorrow']]"
   ],
   "metadata": {
    "collapsed": false,
    "pycharm": {
     "name": "#%%\n"
    }
   }
  },
  {
   "cell_type": "code",
   "execution_count": 1086,
   "outputs": [],
   "source": [
    "w_df = w_df.dropna()"
   ],
   "metadata": {
    "collapsed": false,
    "pycharm": {
     "name": "#%%\n"
    }
   }
  },
  {
   "cell_type": "code",
   "execution_count": null,
   "outputs": [],
   "source": [
    "rainfall_dict = {'Rainfall_today':[], 'Rainfall_tomorrow': []}"
   ],
   "metadata": {
    "collapsed": false,
    "pycharm": {
     "name": "#%%\n",
     "is_executing": true
    }
   }
  },
  {
   "cell_type": "code",
   "execution_count": 1127,
   "outputs": [],
   "source": [
    "i=0\n",
    "for index, row in w_df.iterrows():\n",
    "    if (i+1) < len(w_df):\n",
    "        if (index + pd.DateOffset(days=1)) == w_df.iloc[i+1, :].name:\n",
    "            rainfall_dict['Rainfall_today'].append(row['Rainfall'])\n",
    "            rainfall_dict['Rainfall_tomorrow'].append(w_df.iloc[i+1, :]['Rainfall'])\n",
    "    i+=1\n"
   ],
   "metadata": {
    "collapsed": false,
    "pycharm": {
     "name": "#%%\n"
    }
   }
  },
  {
   "cell_type": "code",
   "execution_count": 1128,
   "outputs": [
    {
     "data": {
      "text/plain": "   Rainfall_today  Rainfall_tomorrow\n0             0.6                0.0\n1             0.0                0.0\n2             0.0                0.0\n3             0.0                1.0\n4             1.0                0.2",
      "text/html": "<div>\n<style scoped>\n    .dataframe tbody tr th:only-of-type {\n        vertical-align: middle;\n    }\n\n    .dataframe tbody tr th {\n        vertical-align: top;\n    }\n\n    .dataframe thead th {\n        text-align: right;\n    }\n</style>\n<table border=\"1\" class=\"dataframe\">\n  <thead>\n    <tr style=\"text-align: right;\">\n      <th></th>\n      <th>Rainfall_today</th>\n      <th>Rainfall_tomorrow</th>\n    </tr>\n  </thead>\n  <tbody>\n    <tr>\n      <th>0</th>\n      <td>0.6</td>\n      <td>0.0</td>\n    </tr>\n    <tr>\n      <th>1</th>\n      <td>0.0</td>\n      <td>0.0</td>\n    </tr>\n    <tr>\n      <th>2</th>\n      <td>0.0</td>\n      <td>0.0</td>\n    </tr>\n    <tr>\n      <th>3</th>\n      <td>0.0</td>\n      <td>1.0</td>\n    </tr>\n    <tr>\n      <th>4</th>\n      <td>1.0</td>\n      <td>0.2</td>\n    </tr>\n  </tbody>\n</table>\n</div>"
     },
     "execution_count": 1128,
     "metadata": {},
     "output_type": "execute_result"
    }
   ],
   "source": [
    "rainfall_df = pd.DataFrame(rainfall_dict)\n",
    "rainfall_df.head()"
   ],
   "metadata": {
    "collapsed": false,
    "pycharm": {
     "name": "#%%\n"
    }
   }
  },
  {
   "cell_type": "markdown",
   "source": [
    "#### Scatter plot"
   ],
   "metadata": {
    "collapsed": false,
    "pycharm": {
     "name": "#%% md\n"
    }
   }
  },
  {
   "cell_type": "code",
   "execution_count": 1130,
   "outputs": [
    {
     "data": {
      "text/plain": "<AxesSubplot:xlabel='Rainfall_today', ylabel='Rainfall_tomorrow'>"
     },
     "execution_count": 1130,
     "metadata": {},
     "output_type": "execute_result"
    },
    {
     "data": {
      "text/plain": "<Figure size 1080x576 with 1 Axes>",
      "image/png": "[encoded data removed]"
     },
     "metadata": {
      "needs_background": "light"
     },
     "output_type": "display_data"
    }
   ],
   "source": [
    "fig,axes = plt.subplots(1,1,figsize=(15,8))\n",
    "sns.scatterplot(data=rainfall_df, x=\"Rainfall_today\", y=\"Rainfall_tomorrow\", ax=axes)\n"
   ],
   "metadata": {
    "collapsed": false,
    "pycharm": {
     "name": "#%%\n"
    }
   }
  },
  {
   "cell_type": "markdown",
   "source": [
    "* A simple vista no podemos ver una relacion lineal entre el rainfall de hoy y del dia siguiente."
   ],
   "metadata": {
    "collapsed": false,
    "pycharm": {
     "name": "#%% md\n"
    }
   }
  },
  {
   "cell_type": "code",
   "execution_count": 1136,
   "outputs": [
    {
     "data": {
      "text/plain": "<AxesSubplot:xlabel='Rainfall_tomorrow'>"
     },
     "execution_count": 1136,
     "metadata": {},
     "output_type": "execute_result"
    },
    {
     "data": {
      "text/plain": "<Figure size 1080x576 with 2 Axes>",
      "image/png": "[encoded data removed]"
     },
     "metadata": {
      "needs_background": "light"
     },
     "output_type": "display_data"
    }
   ],
   "source": [
    "fig,axes = plt.subplots(1,2,figsize=(15,8))\n",
    "sns.boxplot(data = rainfall_df, x = 'Rainfall_today', ax=axes[0])\n",
    "sns.boxplot(data = rainfall_df, x = 'Rainfall_tomorrow', ax=axes[1])"
   ],
   "metadata": {
    "collapsed": false,
    "pycharm": {
     "name": "#%%\n"
    }
   }
  },
  {
   "cell_type": "markdown",
   "source": [
    "### Partición en Train y Test"
   ],
   "metadata": {
    "collapsed": false,
    "pycharm": {
     "name": "#%% md\n"
    }
   }
  },
  {
   "cell_type": "code",
   "execution_count": 1137,
   "outputs": [
    {
     "name": "stdout",
     "output_type": "stream",
     "text": [
      "Train:  (111425, 1) (111425,)\n",
      "Test: (27857, 1) (27857,)\n"
     ]
    }
   ],
   "source": [
    "train_ratio = 0.80\n",
    "test_ratio = 0.20\n",
    "\n",
    "X_train, X_test, y_train, y_test = train_test_split(rainfall_df.drop(columns=['Rainfall_tomorrow']), rainfall_df['Rainfall_tomorrow'], test_size=test_ratio)\n",
    "\n",
    "print(\"Train: \", X_train.shape,y_train.shape)\n",
    "print(\"Test:\", X_test.shape,y_test.shape)"
   ],
   "metadata": {
    "collapsed": false,
    "pycharm": {
     "name": "#%%\n"
    }
   }
  },
  {
   "cell_type": "markdown",
   "source": [
    "### Standarization\n"
   ],
   "metadata": {
    "collapsed": false,
    "pycharm": {
     "name": "#%% md\n"
    }
   }
  },
  {
   "cell_type": "code",
   "execution_count": 1144,
   "outputs": [],
   "source": [
    "x_scaler = StandardScaler()\n",
    "y_scaler = StandardScaler()\n",
    "X_train_scaled = x_scaler.fit_transform(X_train.values)\n",
    "y_train_scaled = y_scaler.fit_transform(y_train.to_numpy().reshape(-1,1))\n"
   ],
   "metadata": {
    "collapsed": false,
    "pycharm": {
     "name": "#%%\n"
    }
   }
  },
  {
   "cell_type": "markdown",
   "source": [
    "### Modeladob"
   ],
   "metadata": {
    "collapsed": false,
    "pycharm": {
     "name": "#%% md\n"
    }
   }
  },
  {
   "cell_type": "code",
   "execution_count": 1142,
   "outputs": [],
   "source": [
    "class BaseModel(object):\n",
    "\n",
    "    def __init__(self):\n",
    "        self.model = None\n",
    "\n",
    "    def fit(self, X, Y):\n",
    "        return NotImplemented\n",
    "\n",
    "    def predict(self, X):\n",
    "        return NotImplemented\n",
    "\n",
    "class LinearRegressionWithB(BaseModel):\n",
    "\n",
    "    def fit(self, X, y):\n",
    "        X_expanded = np.hstack((np.ones((len(X),1)),X))\n",
    "        W = np.linalg.inv(X_expanded.T.dot(X_expanded)).dot(X_expanded.T).dot(y)\n",
    "        self.model = W\n",
    "\n",
    "    def predict(self, X):\n",
    "        X_expanded = np.hstack((np.ones((len(X),1)),X))\n",
    "        return X_expanded.dot(self.model)\n",
    "\n",
    "\n",
    "class LinearRegressionWithGradient(BaseModel):\n",
    "    \"\"\"\n",
    "        :param X: X_train\n",
    "        :param y: y_train\n",
    "        :param lr: learning rate\n",
    "        :param epochs: number of epochs\n",
    "        :param b: batch size for mini-batch\n",
    "        :param gradient: type of gradient descent: 'SGD', 'MINI', 'BGD'\n",
    "    \"\"\"\n",
    "\n",
    "    def fit(self, X, y, lr=0.01, epochs=100, b=16, gradient='SGD'):\n",
    "        X_expanded = np.hstack((np.ones((len(X),1)),X))\n",
    "\n",
    "        if gradient == 'BGD':\n",
    "            w = self.gradient_descent(X_expanded, y, lr, epochs)\n",
    "            self.model = w\n",
    "            return w\n",
    "        elif gradient == 'SGD':\n",
    "            w = self.stochastic_gradient_descent(X_expanded, y, lr, epochs)\n",
    "            self.model = w\n",
    "            return w\n",
    "        elif gradient == 'SGD':\n",
    "            w = self.mini_batch_gradient_descent(X_expanded, y, lr, epochs, b)\n",
    "            self.model = w\n",
    "            return w\n",
    "\n",
    "\n",
    "    def predict(self, X):\n",
    "        X_expanded = np.hstack((np.ones((len(X),1)),X))\n",
    "        return X_expanded.dot(self.model)\n",
    "\n",
    "    def gradient_descent(self, X_train, y_train, lr=0.01, amt_epochs=100):\n",
    "        \"\"\"\n",
    "        shapes:\n",
    "            X_train = nxm\n",
    "            y_train = nx1\n",
    "            W = mx1\n",
    "        \"\"\"\n",
    "\n",
    "        n = X_train.shape[0]\n",
    "        m = X_train.shape[1]\n",
    "\n",
    "        # initialize random weights\n",
    "        W = np.random.randn(m).reshape(m, 1)  # mx1\n",
    "\n",
    "        for i in range(amt_epochs):\n",
    "            # Calculate the predictions for all samples\n",
    "            prediction = np.matmul(X_train, W)  # nx1\n",
    "\n",
    "            # Calculate the error for all samples\n",
    "            error = y_train - prediction  # nx1\n",
    "\n",
    "            # Calculate the gradient for all samples\n",
    "            grad_sum = np.sum(error * X_train, axis=0)\n",
    "            grad_mul = -2 / n * grad_sum  # 1xm\n",
    "            gradient = np.transpose(grad_mul)  # mx1 (it also works with reshape)\n",
    "\n",
    "            # Update the parameters\n",
    "            W = W - (lr * gradient)\n",
    "\n",
    "        return W\n",
    "\n",
    "    def stochastic_gradient_descent(self, X_train, y_train, lr=0.01, amt_epochs=100):\n",
    "        \"\"\"\n",
    "        shapes:\n",
    "            X_train = nxm\n",
    "            y_train = nx1\n",
    "            W = mx1\n",
    "        \"\"\"\n",
    "\n",
    "        n = X_train.shape[0]\n",
    "        m = X_train.shape[1]\n",
    "\n",
    "        # initialize random weights\n",
    "        W = np.random.randn(m).reshape(m, 1)\n",
    "\n",
    "        # Iterate over the n_epochs\n",
    "        for i in range(amt_epochs):\n",
    "\n",
    "            # Shuffle all the samples\n",
    "            idx = np.random.permutation(X_train.shape[0])\n",
    "            X_train = X_train[idx]\n",
    "            y_train = y_train[idx]\n",
    "\n",
    "            # Iterate over each sample\n",
    "            for j in range(n):\n",
    "                # Calculate the prediction for each sample\n",
    "                prediction = np.matmul(X_train[j].reshape(1, -1), W)  # 1x1\n",
    "                # Calculate the error for each sample\n",
    "                error = y_train[j] - prediction  # 1x1\n",
    "                # Calculate the gradient for each sample\n",
    "                grad_sum = error * X_train[j]  # 1xm\n",
    "                grad_mul = -2 / n * grad_sum  # 1xm\n",
    "                gradient = np.transpose(grad_mul).reshape(-1, 1)  # mx1\n",
    "                # Update all the weights\n",
    "                W = W - (lr * gradient)  # mx1\n",
    "\n",
    "        return W\n",
    "\n",
    "    def mini_batch_gradient_descent(self, X_train, y_train, lr=0.01, amt_epochs=100, b=16):\n",
    "        \"\"\"\n",
    "        shapes:\n",
    "            X_train = nxm\n",
    "            y_train = nx1\n",
    "            W = mx1\n",
    "        \"\"\"\n",
    "\n",
    "        n = X_train.shape[0]\n",
    "        m = X_train.shape[1]\n",
    "\n",
    "        # initialize random weights\n",
    "        W = np.random.randn(m).reshape(m, 1)\n",
    "\n",
    "        # iterate over the n_epochs\n",
    "        for i in range(amt_epochs):\n",
    "\n",
    "            # Shuffle all the samples\n",
    "            idx = np.random.permutation(X_train.shape[0])\n",
    "            X_train = X_train[idx]\n",
    "            y_train = y_train[idx]\n",
    "\n",
    "            # Calculate the batch size in samples as a function of the number of batches\n",
    "            batch_size = int(len(X_train) / b)\n",
    "\n",
    "            # Iterate over the batches\n",
    "            for i in range(0, len(X_train), batch_size):\n",
    "                end = i + batch_size if i + batch_size <= len(X_train) else len(X_train)\n",
    "                batch_X = X_train[i: end]  # batch_size*m\n",
    "                batch_y = y_train[i: end]  # batch_size*1\n",
    "\n",
    "                # Calculate the prediction for the whole batch\n",
    "                prediction = np.matmul(batch_X, W)  # batch_sizex1\n",
    "                # Calculate the error for the whole batch\n",
    "                error = batch_y - prediction  # batch_sizex1\n",
    "\n",
    "                # Calculate the gradient for the batch\n",
    "\n",
    "                # error[batch_sizex1]*batch_X[batch_size*m]--> broadcasting --> batch_size*m\n",
    "                grad_sum = np.sum(error * batch_X, axis=0)  # 1xm\n",
    "                grad_mul = -2 / batch_size * grad_sum  # 1xm\n",
    "                gradient = np.transpose(grad_mul)  # mx1\n",
    "\n",
    "                # Update the weights\n",
    "                W = W - (lr * gradient)\n",
    "\n",
    "        return W"
   ],
   "metadata": {
    "collapsed": false,
    "pycharm": {
     "name": "#%%\n"
    }
   }
  },
  {
   "cell_type": "markdown",
   "source": [
    "### Linear Regression"
   ],
   "metadata": {
    "collapsed": false,
    "pycharm": {
     "name": "#%% md\n"
    }
   }
  },
  {
   "cell_type": "markdown",
   "source": [
    "#### Desempeño con validación"
   ],
   "metadata": {
    "collapsed": false,
    "pycharm": {
     "name": "#%% md\n"
    }
   }
  },
  {
   "cell_type": "code",
   "execution_count": 1161,
   "outputs": [],
   "source": [
    "from sklearn.metrics import r2_score\n",
    "mse = MSE()\n",
    "lineal_reg = LinearRegressionWithB()\n",
    "\n",
    "X_train_1, X_val_1, y_train_1, y_val_1 = train_test_split(X_train_scaled, y_train_scaled, test_size=0.2)\n",
    "\n",
    "lineal_reg.fit(X_train_1, y_train_1)\n",
    "\n",
    "y_val_predict = lineal_reg.predict(X_val_1)\n",
    "lr_mse = mse(y_val_1, y_val_predict)"
   ],
   "metadata": {
    "collapsed": false,
    "pycharm": {
     "name": "#%%\n"
    }
   }
  },
  {
   "cell_type": "code",
   "execution_count": 1162,
   "outputs": [
    {
     "data": {
      "text/plain": "array([[-0.0021749 ],\n       [ 0.28520684]])"
     },
     "execution_count": 1162,
     "metadata": {},
     "output_type": "execute_result"
    }
   ],
   "source": [
    "lineal_reg.model"
   ],
   "metadata": {
    "collapsed": false,
    "pycharm": {
     "name": "#%%\n"
    }
   }
  },
  {
   "cell_type": "code",
   "execution_count": 1163,
   "outputs": [
    {
     "name": "stdout",
     "output_type": "stream",
     "text": [
      "MSE: 1.1441424366987578 \n",
      "R2-score: 0.12081428561144247\n"
     ]
    }
   ],
   "source": [
    "print('MSE: {} '.format(lr_mse))\n",
    "print('R2-score: {}'.format(r2_score(y_val_1, y_val_predict)))"
   ],
   "metadata": {
    "collapsed": false,
    "pycharm": {
     "name": "#%%\n"
    }
   }
  },
  {
   "cell_type": "code",
   "execution_count": 1164,
   "outputs": [
    {
     "data": {
      "text/plain": "[<matplotlib.lines.Line2D at 0x2acb6e636a0>]"
     },
     "execution_count": 1164,
     "metadata": {},
     "output_type": "execute_result"
    },
    {
     "data": {
      "text/plain": "<Figure size 720x360 with 1 Axes>",
      "image/png": "[encoded data removed]"
     },
     "metadata": {
      "needs_background": "light"
     },
     "output_type": "display_data"
    }
   ],
   "source": [
    "fig,axes = plt.subplots(1,1,figsize=(10,5))\n",
    "axes.scatter(X_val_1, y_val_1 )\n",
    "axes.plot(X_val_1, y_val_predict, 'r')"
   ],
   "metadata": {
    "collapsed": false,
    "pycharm": {
     "name": "#%%\n"
    }
   }
  },
  {
   "cell_type": "markdown",
   "source": [
    "### Linear Regression con sklearn"
   ],
   "metadata": {
    "collapsed": false,
    "pycharm": {
     "name": "#%% md\n"
    }
   }
  },
  {
   "cell_type": "code",
   "execution_count": 1165,
   "outputs": [],
   "source": [
    "def ECM_graph(X,y,w):\n",
    "    ecm=0.0\n",
    "    for n,val in enumerate(y):\n",
    "        y_est = w[0] + w[1]*X[n]\n",
    "        ecm = ecm + (y_est - y[n])**2\n",
    "    return ecm/len(y)\n"
   ],
   "metadata": {
    "collapsed": false,
    "pycharm": {
     "name": "#%%\n"
    }
   }
  },
  {
   "cell_type": "code",
   "execution_count": 1156,
   "outputs": [
    {
     "data": {
      "text/plain": "<matplotlib.colorbar.Colorbar at 0x2ac98fa8c10>"
     },
     "execution_count": 1156,
     "metadata": {},
     "output_type": "execute_result"
    },
    {
     "data": {
      "text/plain": "<Figure size 432x288 with 2 Axes>",
      "image/png": "[encoded data removed]"
     },
     "metadata": {
      "needs_background": "light"
     },
     "output_type": "display_data"
    }
   ],
   "source": [
    "from mpl_toolkits import mplot3d\n",
    "w0 = np.arange(-50,50,1)\n",
    "w1 = np.arange(-50,50,1)\n",
    "X0, Y0 = np.meshgrid(w0, w1)\n",
    "Z = ECM_graph(X_train_scaled,y_train_scaled,[X0,Y0])\n",
    "\n",
    "plt.contourf(X0, Y0, Z, 50, cmap='RdGy')\n",
    "plt.colorbar()"
   ],
   "metadata": {
    "collapsed": false,
    "pycharm": {
     "name": "#%%\n"
    }
   }
  },
  {
   "cell_type": "code",
   "execution_count": 1158,
   "outputs": [
    {
     "data": {
      "text/plain": "<Figure size 720x720 with 1 Axes>",
      "image/png": "[encoded data removed]"
     },
     "metadata": {
      "needs_background": "light"
     },
     "output_type": "display_data"
    }
   ],
   "source": [
    "from matplotlib import cm\n",
    "\n",
    "fig, ax = plt.subplots(subplot_kw={\"projection\": \"3d\"}, figsize=(10, 10))\n",
    "surf = ax.plot_surface(X0, Y0, Z, cmap=cm.coolwarm, linewidth=0, antialiased=False)\n",
    "ax.set_zlabel('ECM')\n",
    "ax.set_xlabel('w[0]')\n",
    "ax.set_ylabel('w[1]')\n",
    "ax.view_init(60, 35)"
   ],
   "metadata": {
    "collapsed": false,
    "pycharm": {
     "name": "#%%\n"
    }
   }
  },
  {
   "cell_type": "code",
   "execution_count": 1166,
   "outputs": [
    {
     "name": "stdout",
     "output_type": "stream",
     "text": [
      "MSE: 1.1441424366987538 \n",
      "R2-score: 0.1208142856114457\n"
     ]
    }
   ],
   "source": [
    "reg = LinearRegression()\n",
    "reg.fit(X_train_1, y_train_1)\n",
    "\n",
    "y_val_predict = reg.predict(X_val_1)\n",
    "lr_mse = mse(y_val_1, y_val_predict)\n",
    "print('MSE: {} '.format(lr_mse))\n",
    "print('R2-score: {}'.format(r2_score(y_val_1, y_val_predict)))"
   ],
   "metadata": {
    "collapsed": false,
    "pycharm": {
     "name": "#%%\n"
    }
   }
  },
  {
   "cell_type": "code",
   "execution_count": 1168,
   "outputs": [
    {
     "data": {
      "text/plain": "(array([-0.0021749]), array([[0.28520684]]))"
     },
     "execution_count": 1168,
     "metadata": {},
     "output_type": "execute_result"
    }
   ],
   "source": [
    "reg.intercept_, reg.coef_"
   ],
   "metadata": {
    "collapsed": false,
    "pycharm": {
     "name": "#%%\n"
    }
   }
  },
  {
   "cell_type": "markdown",
   "source": [
    "### 6. Presentación de resultados"
   ],
   "metadata": {
    "collapsed": false
   }
  }
 ],
 "metadata": {
  "colab": {
   "collapsed_sections": [],
   "name": "TP Integrador Análisis de datos.ipynb",
   "provenance": [],
   "toc_visible": true
  },
  "kernelspec": {
   "name": "pycharm-4ff9cecc",
   "language": "python",
   "display_name": "PyCharm (add)"
  },
  "language_info": {
   "codemirror_mode": {
    "name": "ipython",
    "version": 3
   },
   "file_extension": ".py",
   "mimetype": "text/x-python",
   "name": "python",
   "nbconvert_exporter": "python",
   "pygments_lexer": "ipython3",
   "version": "3.7.3"
  }
 },
 "nbformat": 4,
 "nbformat_minor": 4
}